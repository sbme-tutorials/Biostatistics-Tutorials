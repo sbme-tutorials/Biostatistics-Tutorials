{
 "cells": [
  {
   "cell_type": "markdown",
   "id": "8812eee1",
   "metadata": {},
   "source": [
    "# Introduction to Probability Theroy "
   ]
  },
  {
   "cell_type": "markdown",
   "id": "f21d9181",
   "metadata": {},
   "source": [
    "## Counting Methods"
   ]
  },
  {
   "cell_type": "markdown",
   "id": "6b61e527",
   "metadata": {},
   "source": [
    "Tree method:\n"
   ]
  },
  {
   "cell_type": "markdown",
   "id": "f7b6e3dc",
   "metadata": {},
   "source": [
    "![](images/tree.jpg)"
   ]
  },
  {
   "cell_type": "markdown",
   "id": "e07dd961",
   "metadata": {},
   "source": [
    "### Selection With Replacement\n",
    "\n",
    "number of outcomes for k samples of n items :   $$n^k$$"
   ]
  },
  {
   "cell_type": "markdown",
   "id": "183520ab",
   "metadata": {},
   "source": [
    "### Selection Without Replacement\n",
    "* Permutaions\n",
    "* Combinations"
   ]
  },
  {
   "cell_type": "markdown",
   "id": "f4dad1d4",
   "metadata": {},
   "source": [
    "#### Permutations\n",
    "Finding possible  ways of ordering set members in a sequence and **order matters**\n",
    "\n",
    " $$^{n}P_{k} =\\frac{n!}{(n-k)!}$$."
   ]
  },
  {
   "cell_type": "markdown",
   "id": "b88fdc1a",
   "metadata": {},
   "source": [
    "#### Combinations\n",
    "Finding possible  ways of ordering set members in a sequence and **order doesn't matter**\n",
    "\n",
    " $$^{n}C_{k} =\\frac{n!}{k!(n-k)!}$$."
   ]
  },
  {
   "cell_type": "markdown",
   "id": "ed29b69b",
   "metadata": {},
   "source": [
    "### Example 1 \n",
    "\n",
    "Provide a reasonable description of the sample space for each\n",
    "of the random experiments"
   ]
  },
  {
   "cell_type": "markdown",
   "id": "65c4bf54",
   "metadata": {},
   "source": [
    "1. An order for a computer system can specify memory of 4, 8, or 12 gigabytes and disk storage of 200, 300, or 400 gigabytes. Describe the set of possible orders\n",
    "\n",
    "2. Each of four transmitted bits is classified as either in error or not in error.\n",
    "\n",
    "3. An ammeter that displays three digits is used to measure current in milliamperes"
   ]
  },
  {
   "cell_type": "markdown",
   "id": "d5d1090c",
   "metadata": {},
   "source": [
    "### Example 2\n",
    "An Urn contains 2 red balls, and 3 black balls. Balls are chosen in succession. The first ball is\n",
    "returned to the urn before the second ball is chosen. Each ball is chosen randomly. \n",
    "\n",
    "* What is the probabilty of selecting two successive black balls ? \n"
   ]
  },
  {
   "cell_type": "markdown",
   "id": "d9c127cc",
   "metadata": {},
   "source": [
    "### Example  3\n",
    "Five balls numbered 1, 2, 3, 4, 5 are drawn from an urn without replacement. What is the probability\n",
    "that they are drawn in the same order as their number?"
   ]
  },
  {
   "cell_type": "markdown",
   "id": "9b0270e9",
   "metadata": {},
   "source": [
    "### Example 4 \n",
    "How many subsets of size 3 can be made from {A, B, C, D}?\n"
   ]
  },
  {
   "cell_type": "markdown",
   "id": "241aac29",
   "metadata": {},
   "source": [
    "## Conditional Probability \n",
    "\n",
    "* Additional Information (Prior knowledge)\n",
    "* Relative probabilities\n",
    "\n",
    "$$P(A|B) = \\frac{P(A\\cap B)}{P(B)}$$\n",
    "\n",
    "\n"
   ]
  },
  {
   "cell_type": "markdown",
   "id": "d45ba37f",
   "metadata": {},
   "source": [
    "![](images/statistics-Conditional-Probability.png)\n",
    "\n"
   ]
  },
  {
   "cell_type": "markdown",
   "id": "448a574e",
   "metadata": {},
   "source": [
    "### Example 5\n",
    "\n",
    "Disks of polycarbonate plastic from a supplier are\n",
    "analyzed for scratch and shock resistance. The results from 100\n",
    "disks are summarized as follows:\n",
    "\n",
    "![](images/2-99.png)\n",
    "\n",
    "Let A denote the event that a disk has high shock resistance,\n",
    "and let B denote the event that a disk has high scratch resistance. Determine the following probabilities:\n",
    "\n",
    "\n",
    "(a) P(A)  \n",
    "\n",
    "(b) P(B)\n",
    "\n",
    "(c) P(A| B) \n",
    "\n",
    "(d) P (B|A)"
   ]
  },
  {
   "cell_type": "markdown",
   "id": "92261232",
   "metadata": {},
   "source": [
    "### Example 6\n",
    "\n",
    "The following table summarizes the analysis of samples of galvanized steel for coating weight and surface roughness\n",
    "\n",
    "![](images/2-103.png)\n",
    "\n",
    "(a) If the coating weight of a sample is high, what is the\n",
    "probability that the surface roughness is high?\n",
    "\n",
    "(b) If the surface roughness of a sample is high, what is the\n",
    "probability that the coating weight is high?\n",
    "\n",
    "(c) If the surface roughness of a sample is low, what is the\n",
    "probability that the coating weight is low?\n"
   ]
  },
  {
   "cell_type": "markdown",
   "id": "76c20b65",
   "metadata": {},
   "source": [
    "## Important Rules\n",
    "\n",
    "### Multiplication Rule\n",
    "\n",
    "From conditional probability rule \n",
    "$$P(A|B) = \\frac{P(A\\cap B)}{P(B)}$$\n",
    "$$P(B|A) = \\frac{P(B\\cap A)}{P(A)}$$\n",
    "So\n",
    "$$P(A\\cap B) = P(A|B)P(B)  $$\n",
    "$$P(B\\cap A) = P(B| A)P(A)$$\n",
    "But $P(A\\cap B) = P(B\\cap A)$\n",
    "\n",
    "$$P(A\\cap B) = P(A|B)P(B) = P(B| A)P(A)$$"
   ]
  },
  {
   "cell_type": "markdown",
   "id": "3d0c67d5",
   "metadata": {},
   "source": [
    "### Total probability Rule\n",
    "\n",
    "\n",
    "For any event $B$ \n",
    "\n",
    "$$ B = (B \\cap A) \\cup (B \\cap A')$$ \n",
    "\n",
    "and $A$ and  $A'$ are matually execlusive \n",
    "\n",
    "So \n",
    "\n",
    "$$P(B) = P(B\\cap A) + P(B\\cap A')$$\n",
    "\n",
    "and from mutiplication rule \n",
    "\n",
    "$$P(B) = P(B| A)P(A) +  P(B| A')P(A') $$\n",
    "\n",
    "In general If we have multiple mutually execlusive events $E_1, E_2, ... , E_k$\n",
    "\n",
    "$$P(B) = P(B \\cap E_1) + P(B \\cap  E_2) +  ... + P(B \\cap E_k)$$\n",
    "$$P(B) = P(B|E_1)P(E_1) + P(B | E_2)P(E_2) +  ... + P(B| E_k)P(E_k) $$\n",
    "\n"
   ]
  },
  {
   "cell_type": "markdown",
   "id": "282656c2",
   "metadata": {},
   "source": [
    "### Independence\n",
    "\n",
    "For Two events $A$ and $B$ thery are independent If\n",
    "\n",
    "$$P(A|B) = P(A)$$\n",
    "$$P(B|A) = P(B)$$\n",
    "$$P(A\\cap B) = P(A)\\times P(B)$$\n",
    "\n",
    "**Note**\n",
    "\n",
    "Independence does not mean they are matually execlusive as for two matually execlusive events $A$ and $B$, $P(A \\cap B) = 0$"
   ]
  },
  {
   "cell_type": "markdown",
   "id": "c601899f",
   "metadata": {},
   "source": [
    "### Example 7\n",
    "\n",
    "Suppose that P(A|B) =  0.4 and P(B)=0.5 Determine the following:\n",
    "\n",
    "(a) $P(A\\cap B)$\n",
    "\n",
    "(b)$P(A' \\cap B)$"
   ]
  },
  {
   "cell_type": "markdown",
   "id": "f0297600",
   "metadata": {},
   "source": [
    "### Example 8\n",
    "\n",
    "The probability is 1% that an electrical connector\n",
    "that is kept dry fails during the warranty period of a portable\n",
    "computer. If the connector is ever wet, the probability of a failure during the warranty period is 5%. If 90% of the connectors\n",
    "are kept dry and 10% are wet, what proportion of connectors\n",
    "fail during the warranty period?"
   ]
  },
  {
   "cell_type": "markdown",
   "id": "4e910f3e",
   "metadata": {},
   "source": [
    "### Example 9\n",
    "\n",
    "A new method to detect defects in Aluminum sheets is being tested. This new method of ultrasound\n",
    "wave analysis is important because, if adopted, it could be used to detect three different defects\n",
    "holes, air bubbles, and contaminants instead of having to use a single test for each defect. The\n",
    "makers of the test claim that it can detect holes with 99.7% accuracy, air bubbles with 99.95%\n",
    "accuracy, and contaminants with 89.7% accuracy. If a defect is not present, the test does not signal.\n",
    "Samples are prepared for the calibration of the test and 60% of them are defected with holes, 27%\n",
    "with air bubbles, and 13% with different contaminants.\n",
    "A test sample is selected randomly, if the test signals, what is the probability that contaminants are\n",
    "present?"
   ]
  },
  {
   "cell_type": "markdown",
   "id": "bba982b6",
   "metadata": {},
   "source": [
    "### Example 10 \n",
    "Disks of polycarbonate plastic from a supplier are\n",
    "analyzed for scratch and shock resistance. The results from 100\n",
    "disks are summarized as follows\n",
    "\n",
    "||||Shock Resistance|\n",
    "|--|----|----|----|\n",
    "|||High|Low|\n",
    "|**Scratch**|High|70|9|\n",
    "|**Resistance**|Low|16|5|\n",
    "\n",
    "\n",
    "Let A denote the event that a disk has high shock resistance,\n",
    "and let B denote the event that a disk has high scratch resistance. Are events A and B independent?\n"
   ]
  },
  {
   "cell_type": "markdown",
   "id": "b9dced58",
   "metadata": {},
   "source": [
    "### Example 11\n",
    "\n",
    "In a test of a printed circuit board using a random\n",
    "test pattern, an array of 10 bits is equally likely to be 0 or 1.\n",
    "Assume the bits are independent.\n",
    "\n",
    "(a) What is the probability that all bits are 1s?\n",
    "\n",
    "(b) What is the probability that all bits are 0s?\n"
   ]
  },
  {
   "cell_type": "markdown",
   "id": "3516d0e2",
   "metadata": {},
   "source": [
    "### Example 12\n",
    "\n",
    "The following circuit operates if and only if there is\n",
    "a path of functional devices from left to right. The probability\n",
    "that each device functions is as shown. Assume that the probability that a device is functional does not depend on whether\n",
    "or not other devices are functional. What is the probability that\n",
    "the circuit operates?\n",
    "\n",
    "![](images/2-156.png)"
   ]
  },
  {
   "cell_type": "markdown",
   "id": "79316432",
   "metadata": {},
   "source": [
    "### Example 13\n",
    "\n",
    "Independant devices.\n",
    "\n",
    "What is the probability that the circuit\n",
    "operates?\n",
    "\n",
    "![](images/2-157.png)"
   ]
  },
  {
   "cell_type": "markdown",
   "id": "463c5f96",
   "metadata": {},
   "source": [
    "### Example 14 \n",
    "\n",
    "A lot of 100 semiconductor chips contains 20 that\n",
    "are defective. Two are selected randomly, without replacement,\n",
    "from the lot.\n",
    "\n",
    "(a) What is the probability that the first one selected is\n",
    "defective?\n",
    "\n",
    "(b) What is the probability that the second one selected is\n",
    "defective given that the first one was defective?\n",
    "\n",
    "(c) What is the probability that both are defective?\n",
    "\n",
    "(d) How does the answer to part (b) change if chips selected\n",
    "were replaced prior to the next selection?"
   ]
  }
 ],
 "metadata": {
  "kernelspec": {
   "display_name": "Python 3 (ipykernel)",
   "language": "python",
   "name": "python3"
  },
  "language_info": {
   "codemirror_mode": {
    "name": "ipython",
    "version": 3
   },
   "file_extension": ".py",
   "mimetype": "text/x-python",
   "name": "python",
   "nbconvert_exporter": "python",
   "pygments_lexer": "ipython3",
   "version": "3.8.10"
  }
 },
 "nbformat": 4,
 "nbformat_minor": 5
}
