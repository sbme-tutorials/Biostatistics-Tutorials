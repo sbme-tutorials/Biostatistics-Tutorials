{
 "cells": [
  {
   "cell_type": "markdown",
   "id": "d02699e5",
   "metadata": {},
   "source": [
    "# Statistics Using Python\n",
    "\n",
    "* Set theory basics\n",
    "* Counting methods\n",
    "    * Cross product\n",
    "    * Permutations\n",
    "    * Combinations\n",
    "* Discrete Random Variables\n",
    "    * Probability mass function (pmf) $\\rightarrow f(x)$\n",
    "    * Comulative distribution function (CDF) $\\rightarrow F(x)$\n",
    "    * Expected Value $E[X]$ and Variance $V(X)$\n",
    "\n",
    "* Discrete Distributions\n",
    "    * Uniform RV\n",
    "    * Binomial \n",
    "    * Geometric\n",
    "    * Negative Binomial\n",
    "    * Hypergeometric\n",
    "    * Poisson"
   ]
  },
  {
   "cell_type": "code",
   "execution_count": null,
   "id": "1d3258b0",
   "metadata": {},
   "outputs": [],
   "source": []
  }
 ],
 "metadata": {
  "kernelspec": {
   "display_name": "Python 3 (ipykernel)",
   "language": "python",
   "name": "python3"
  },
  "language_info": {
   "codemirror_mode": {
    "name": "ipython",
    "version": 3
   },
   "file_extension": ".py",
   "mimetype": "text/x-python",
   "name": "python",
   "nbconvert_exporter": "python",
   "pygments_lexer": "ipython3",
   "version": "3.8.10"
  }
 },
 "nbformat": 4,
 "nbformat_minor": 5
}
