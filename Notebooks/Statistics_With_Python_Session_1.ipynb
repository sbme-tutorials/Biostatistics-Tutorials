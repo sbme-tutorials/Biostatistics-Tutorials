{
 "cells": [
  {
   "cell_type": "markdown",
   "id": "d02699e5",
   "metadata": {},
   "source": [
    "# Statistics Using Python\n",
    "\n",
    "* Set theory basics\n",
    "* Counting methods\n",
    "    * Cross product\n",
    "    * Permutations\n",
    "    * Combinations\n",
    "* Discrete Random Variables\n",
    "    * Probability mass function (pmf) $\\rightarrow f(x)$\n",
    "    * Comulative distribution function (CDF) $\\rightarrow F(x)$\n",
    "    * Expected Value $E[X]$ and Variance $V(X)$\n",
    "\n",
    "* Discrete Distributions\n",
    "    * Uniform RV\n",
    "    * Binomial \n",
    "    * Geometric\n",
    "    * Negative Binomial\n",
    "    * Hypergeometric\n",
    "   "
   ]
  },
  {
   "cell_type": "markdown",
   "id": "6c3371e2",
   "metadata": {},
   "source": [
    "## Set theory basics"
   ]
  },
  {
   "cell_type": "code",
   "execution_count": 1,
   "id": "1d3258b0",
   "metadata": {},
   "outputs": [],
   "source": [
    "Univ = set([x for x in range(11)])\n",
    "even = set([x for x in range(11) if x%2==0])\n",
    "odd = set([x for x in range(11) if x%2==1])\n",
    "two_elements = set([4,6])\n",
    "Null = set()"
   ]
  },
  {
   "cell_type": "code",
   "execution_count": 2,
   "id": "0a18e130",
   "metadata": {},
   "outputs": [
    {
     "data": {
      "text/plain": [
       "{0, 1, 2, 3, 4, 5, 6, 7, 8, 9, 10}"
      ]
     },
     "execution_count": 2,
     "metadata": {},
     "output_type": "execute_result"
    }
   ],
   "source": [
    "Univ"
   ]
  },
  {
   "cell_type": "code",
   "execution_count": 3,
   "id": "629a5f3f",
   "metadata": {},
   "outputs": [
    {
     "data": {
      "text/plain": [
       "{0, 2, 4, 6, 8, 10}"
      ]
     },
     "execution_count": 3,
     "metadata": {},
     "output_type": "execute_result"
    }
   ],
   "source": [
    "even"
   ]
  },
  {
   "cell_type": "code",
   "execution_count": 4,
   "id": "c6d0fd54",
   "metadata": {},
   "outputs": [
    {
     "data": {
      "text/plain": [
       "{1, 3, 5, 7, 9}"
      ]
     },
     "execution_count": 4,
     "metadata": {},
     "output_type": "execute_result"
    }
   ],
   "source": [
    "odd"
   ]
  },
  {
   "cell_type": "code",
   "execution_count": 5,
   "id": "45c22788",
   "metadata": {},
   "outputs": [
    {
     "data": {
      "text/plain": [
       "set()"
      ]
     },
     "execution_count": 5,
     "metadata": {},
     "output_type": "execute_result"
    }
   ],
   "source": [
    "Null"
   ]
  },
  {
   "cell_type": "code",
   "execution_count": 6,
   "id": "1bd441f0",
   "metadata": {},
   "outputs": [
    {
     "data": {
      "text/plain": [
       "True"
      ]
     },
     "execution_count": 6,
     "metadata": {},
     "output_type": "execute_result"
    }
   ],
   "source": [
    "even.issubset(Univ)"
   ]
  },
  {
   "cell_type": "code",
   "execution_count": 7,
   "id": "d90a1c5b",
   "metadata": {},
   "outputs": [
    {
     "data": {
      "text/plain": [
       "True"
      ]
     },
     "execution_count": 7,
     "metadata": {},
     "output_type": "execute_result"
    }
   ],
   "source": [
    "Univ.issuperset(even)"
   ]
  },
  {
   "cell_type": "code",
   "execution_count": 8,
   "id": "5a9dbd00",
   "metadata": {},
   "outputs": [
    {
     "data": {
      "text/plain": [
       "False"
      ]
     },
     "execution_count": 8,
     "metadata": {},
     "output_type": "execute_result"
    }
   ],
   "source": [
    "Univ.issubset(even)"
   ]
  },
  {
   "cell_type": "code",
   "execution_count": 9,
   "id": "345c93b3",
   "metadata": {},
   "outputs": [
    {
     "data": {
      "text/plain": [
       "True"
      ]
     },
     "execution_count": 9,
     "metadata": {},
     "output_type": "execute_result"
    }
   ],
   "source": [
    "even.isdisjoint(odd)"
   ]
  },
  {
   "cell_type": "code",
   "execution_count": 19,
   "id": "94522049",
   "metadata": {},
   "outputs": [
    {
     "data": {
      "text/plain": [
       "True"
      ]
     },
     "execution_count": 19,
     "metadata": {},
     "output_type": "execute_result"
    }
   ],
   "source": [
    "# equality \n",
    "S1 = {1, 2, 3}\n",
    "S2 = {3, 1, 2}\n",
    "S1 == S2"
   ]
  },
  {
   "cell_type": "code",
   "execution_count": 18,
   "id": "826b346c",
   "metadata": {},
   "outputs": [],
   "source": [
    "# intersection, union, difference, complement, cartesian product \n",
    "U = {1, 2, 3, 4, 5, 6, 9}\n",
    "A = {1, 2, 3, 4, 5, 6}\n",
    "B = {9, 3, 6}"
   ]
  },
  {
   "cell_type": "code",
   "execution_count": 11,
   "id": "b5907439",
   "metadata": {},
   "outputs": [
    {
     "data": {
      "text/plain": [
       "{3, 6}"
      ]
     },
     "execution_count": 11,
     "metadata": {},
     "output_type": "execute_result"
    }
   ],
   "source": [
    "A.intersection(B)"
   ]
  },
  {
   "cell_type": "code",
   "execution_count": 12,
   "id": "ce8d40bb",
   "metadata": {},
   "outputs": [
    {
     "data": {
      "text/plain": [
       "{1, 2, 3, 4, 5, 6, 9}"
      ]
     },
     "execution_count": 12,
     "metadata": {},
     "output_type": "execute_result"
    }
   ],
   "source": [
    "A.union(B)"
   ]
  },
  {
   "cell_type": "code",
   "execution_count": 13,
   "id": "8041b4a8",
   "metadata": {},
   "outputs": [
    {
     "data": {
      "text/plain": [
       "{1, 2, 4, 5}"
      ]
     },
     "execution_count": 13,
     "metadata": {},
     "output_type": "execute_result"
    }
   ],
   "source": [
    "# Difference \n",
    "A - B"
   ]
  },
  {
   "cell_type": "code",
   "execution_count": 14,
   "id": "e8b2c462",
   "metadata": {},
   "outputs": [
    {
     "data": {
      "text/plain": [
       "{9}"
      ]
     },
     "execution_count": 14,
     "metadata": {},
     "output_type": "execute_result"
    }
   ],
   "source": [
    "# Difference \n",
    "B - A "
   ]
  },
  {
   "cell_type": "code",
   "execution_count": 20,
   "id": "3881eeb9",
   "metadata": {},
   "outputs": [
    {
     "data": {
      "text/plain": [
       "{9}"
      ]
     },
     "execution_count": 20,
     "metadata": {},
     "output_type": "execute_result"
    }
   ],
   "source": [
    "# Complement (All elements in the Universal set that are not in A)\n",
    "A_complement = {e for e in U if e not in A}\n",
    "A_complement"
   ]
  },
  {
   "cell_type": "code",
   "execution_count": 21,
   "id": "c5da2a47",
   "metadata": {},
   "outputs": [
    {
     "data": {
      "text/plain": [
       "{9}"
      ]
     },
     "execution_count": 21,
     "metadata": {},
     "output_type": "execute_result"
    }
   ],
   "source": [
    "# In other words A' = U - A\n",
    "A_complement = U - A\n",
    "A_complement"
   ]
  },
  {
   "cell_type": "code",
   "execution_count": 22,
   "id": "85d19571",
   "metadata": {},
   "outputs": [
    {
     "data": {
      "text/plain": [
       "[(1, 4), (1, 5), (3, 4), (3, 5)]"
      ]
     },
     "execution_count": 22,
     "metadata": {},
     "output_type": "execute_result"
    }
   ],
   "source": [
    "# Cartesian product \n",
    "from itertools import product as prod \n",
    "\n",
    "S1 = {1, 3}\n",
    "S2 = {4, 5}\n",
    "list(prod(S1, S2))"
   ]
  },
  {
   "cell_type": "code",
   "execution_count": 23,
   "id": "ae9160f6",
   "metadata": {},
   "outputs": [
    {
     "data": {
      "text/plain": [
       "[('T', 'T', 'T'),\n",
       " ('T', 'T', 'H'),\n",
       " ('T', 'H', 'T'),\n",
       " ('T', 'H', 'H'),\n",
       " ('H', 'T', 'T'),\n",
       " ('H', 'T', 'H'),\n",
       " ('H', 'H', 'T'),\n",
       " ('H', 'H', 'H')]"
      ]
     },
     "execution_count": 23,
     "metadata": {},
     "output_type": "execute_result"
    }
   ],
   "source": [
    "# Cartesian Power\n",
    "S = {'H', 'T'}\n",
    "n = 3\n",
    "list(prod(S, repeat = n)) "
   ]
  },
  {
   "cell_type": "markdown",
   "id": "0c93f236",
   "metadata": {},
   "source": [
    "## Counting methods\n",
    "\n",
    "**Exercises**\n",
    "\n",
    "1. Describe the sample space \n",
    "    * An order for a computer system can specify memory of 4, 8, 12 gigabytes and disk storage of 200, 300, or 400 gigabytes.\n",
    "    * An ammeter that displays three digits is used to measure current in milliamperes.\n",
    "2. Five balls numbered 1, 2, 3, 4, 5 are drawn from an urn without replacement. What is the probability that they are drawn in the same order as their number?\n",
    "4. How many subsets of size 3 can be made from {A, B, C, D}?"
   ]
  },
  {
   "cell_type": "code",
   "execution_count": 27,
   "id": "9385e00e",
   "metadata": {},
   "outputs": [
    {
     "name": "stdout",
     "output_type": "stream",
     "text": [
      "Number of outcomes =  9\n",
      "Outcomes: \n",
      "\n",
      "(8, 200)\n",
      "(8, 300)\n",
      "(8, 400)\n",
      "(4, 200)\n",
      "(4, 300)\n",
      "(4, 400)\n",
      "(12, 200)\n",
      "(12, 300)\n",
      "(12, 400)\n"
     ]
    }
   ],
   "source": [
    "from itertools import product as prod\n",
    "from itertools import permutations\n",
    "from itertools import combinations\n",
    "\n",
    "# Solution of 1-a (cartesian product)\n",
    "\n",
    "mem = {4, 8, 12}\n",
    "disk = {200, 300, 400}\n",
    "\n",
    "outcomes = list(prod(mem , disk))\n",
    "print(\"Number of outcomes = \", len(outcomes))\n",
    "print(\"Outcomes: \\n\")\n",
    "for a in outcomes:\n",
    "    print(a)"
   ]
  },
  {
   "cell_type": "code",
   "execution_count": 37,
   "id": "e38159b0",
   "metadata": {},
   "outputs": [
    {
     "name": "stdout",
     "output_type": "stream",
     "text": [
      "Number of outcomes = 10^3 =  1000\n",
      "\n",
      "Outcomes : \n",
      "(0, 0, 1)\n",
      "(0, 0, 2)\n",
      "(0, 0, 3)\n",
      "(0, 0, 4)\n",
      "........\n",
      "........\n",
      "........\n",
      "........\n",
      "........\n",
      "\n",
      "(9, 9, 5)\n",
      "(9, 9, 6)\n",
      "(9, 9, 7)\n",
      "(9, 9, 8)\n"
     ]
    }
   ],
   "source": [
    "# Solution 1-b (n^k)\n",
    "digits = {e for e in range(10)}\n",
    "digits\n",
    "\n",
    "\n",
    "out = list(prod(digits, repeat = 3))\n",
    "\n",
    "print(\"Number of outcomes = 10^3 = \", len(out))\n",
    "\n",
    "print(\"\\nOutcomes : \")\n",
    "\n",
    "# Outcomes \n",
    "for a in out[1:5]:\n",
    "    print(a)\n",
    "    \n",
    "print(\"........\\n\"*5)\n",
    "\n",
    "for a in out[-5:-1]:\n",
    "    print(a)"
   ]
  },
  {
   "cell_type": "code",
   "execution_count": 47,
   "id": "8cdbd5f9",
   "metadata": {},
   "outputs": [
    {
     "name": "stdout",
     "output_type": "stream",
     "text": [
      "Number of outcomes = 5P5 = n! =  120\n",
      "\n",
      "Outcomes : \n",
      "(1, 2, 3, 5, 4)\n",
      "(1, 2, 4, 3, 5)\n",
      "(1, 2, 4, 5, 3)\n",
      "(1, 2, 5, 3, 4)\n",
      ".............\n",
      ".............\n",
      ".............\n",
      ".............\n",
      ".............\n",
      "\n",
      "(5, 4, 1, 3, 2)\n",
      "(5, 4, 2, 1, 3)\n",
      "(5, 4, 2, 3, 1)\n",
      "(5, 4, 3, 1, 2)\n",
      "\n",
      "Probability to draw the balls with same order =  0.008333333333333333\n"
     ]
    }
   ],
   "source": [
    "# Solution 2 (Permutations)\n",
    "\n",
    "samples = {1, 2, 3, 4, 5}\n",
    "out = list(permutations(samples, 5))\n",
    "\n",
    "print(\"Number of outcomes = 5P5 = n! = \", len(out))\n",
    "\n",
    "print(\"\\nOutcomes : \")\n",
    "# Outcomes \n",
    "for a in out[1:5]:\n",
    "    print(a)\n",
    "    \n",
    "print(\".............\\n\"*5)\n",
    "\n",
    "for a in out[-5:-1]:\n",
    "    print(a)\n",
    "\n",
    "# The event (1, 2, 3, 4, 5) occurs only one time so \n",
    "print(\"\\nProbability to draw the balls with same order = \", 1/len(out))"
   ]
  },
  {
   "cell_type": "code",
   "execution_count": 46,
   "id": "6369212d",
   "metadata": {},
   "outputs": [
    {
     "name": "stdout",
     "output_type": "stream",
     "text": [
      "Number of outcomes : 4C3 =  4\n",
      "\n",
      "Outcomes :\n",
      "\n",
      "('A', 'B', 'D')\n",
      "('A', 'B', 'C')\n",
      "('A', 'D', 'C')\n",
      "('B', 'D', 'C')\n"
     ]
    }
   ],
   "source": [
    "# Solution 3 Combinations \n",
    "\n",
    "a = {'A', 'B', 'C', 'D'}\n",
    "out = list(combinations(a, 3)) \n",
    "print(\"Number of outcomes : 4C3 = \", len(out))\n",
    "\n",
    "print(\"\\nOutcomes :\\n\")\n",
    "\n",
    "for a in out:\n",
    "    print(a)"
   ]
  },
  {
   "cell_type": "markdown",
   "id": "8f4de07c",
   "metadata": {},
   "source": [
    "## Discrete Random Variables\n",
    "\n",
    "### Probability mass function (pmf)\n",
    "\n",
    "Plot the following pmf\n",
    "\n",
    "$$\n",
    "f(x)= \\frac{\n",
    "2x+1}{\n",
    "25}\n",
    "$$\n",
    "\n",
    "and $x=0,1,2,3,4$"
   ]
  },
  {
   "cell_type": "code",
   "execution_count": 62,
   "id": "2180da0d",
   "metadata": {},
   "outputs": [],
   "source": [
    "import matplotlib.pyplot as plt\n",
    "\n",
    "def plot_pmf(x, fx, new_fig = True, color = 'b'):\n",
    "    if new_fig:\n",
    "        fig = plt.figure(figsize=(9,6))\n",
    "    plt.stem( x , fx, use_line_collection = True, linefmt=color,markerfmt=color+\"o\", basefmt='k')\n",
    "    plt.xlabel(\"RV X\",fontsize=15)\n",
    "    plt.ylabel(\"PMF f(x)\",fontsize=15)\n",
    "    plt.xticks(fontsize=15)\n",
    "    plt.yticks(fontsize=15)\n",
    "    plt.grid(True)"
   ]
  },
  {
   "cell_type": "code",
   "execution_count": 63,
   "id": "b11f82eb",
   "metadata": {},
   "outputs": [],
   "source": [
    "# Solution\n",
    "x = [a for a in range(5)]\n",
    "fx = [(2*a+1)/25 for a in x]"
   ]
  },
  {
   "cell_type": "code",
   "execution_count": 64,
   "id": "6d8b4160",
   "metadata": {},
   "outputs": [
    {
     "data": {
      "text/plain": [
       "[0, 1, 2, 3, 4]"
      ]
     },
     "execution_count": 64,
     "metadata": {},
     "output_type": "execute_result"
    }
   ],
   "source": [
    "x"
   ]
  },
  {
   "cell_type": "code",
   "execution_count": 65,
   "id": "b788a9aa",
   "metadata": {},
   "outputs": [
    {
     "data": {
      "text/plain": [
       "[0.04, 0.12, 0.2, 0.28, 0.36]"
      ]
     },
     "execution_count": 65,
     "metadata": {},
     "output_type": "execute_result"
    }
   ],
   "source": [
    "fx"
   ]
  },
  {
   "cell_type": "code",
   "execution_count": 66,
   "id": "63d570bf",
   "metadata": {},
   "outputs": [
    {
     "data": {
      "text/plain": [
       "1.0"
      ]
     },
     "execution_count": 66,
     "metadata": {},
     "output_type": "execute_result"
    }
   ],
   "source": [
    "# total probs = 1\n",
    "sum(fx) "
   ]
  },
  {
   "cell_type": "code",
   "execution_count": 67,
   "id": "1639f27a",
   "metadata": {},
   "outputs": [
    {
     "data": {
      "image/png": "[encoded data removed]",
      "text/plain": [
       "<Figure size 648x432 with 1 Axes>"
      ]
     },
     "metadata": {
      "needs_background": "light"
     },
     "output_type": "display_data"
    }
   ],
   "source": [
    "plot_pmf(x, fx)"
   ]
  },
  {
   "cell_type": "markdown",
   "id": "859fc00e",
   "metadata": {},
   "source": [
    "### Cumulative Distribution Function (CDF)"
   ]
  },
  {
   "cell_type": "code",
   "execution_count": 68,
   "id": "69b82771",
   "metadata": {},
   "outputs": [],
   "source": [
    "import numpy as np\n",
    "import matplotlib.pyplot as plt\n",
    "def plot_CDF(x, Fx):\n",
    "    \"\"\"\n",
    "    x : is the intervals with length n+1\n",
    "    Fx : the cumulative sum from with length n\n",
    "    \"\"\"\n",
    "    data = np.array(x)\n",
    "    y = np.array(Fx[1:])\n",
    "    yn = np.array(Fx)\n",
    "    plt.figure(figsize=(9,6))\n",
    "    fig, ax = plt.subplots(figsize = (9,6))\n",
    "    ax.set_facecolor('white')\n",
    "    # https://matplotlib.org/api/_as_gen/matplotlib.axes.Axes.hlines.html\n",
    "    ax.hlines(y=yn, xmin=data[:-1], xmax=data[1:], color='red', zorder=1)\n",
    "    # https://matplotlib.org/api/_as_gen/matplotlib.axes.Axes.vlines.html\n",
    "    ax.vlines(x=data[1:-1], ymin=yn[:-1], ymax=yn[1:], color='red', linestyle='dashed', zorder=1)\n",
    "    ax.scatter(data[1:-1], y, color='red', s=18, zorder=2)\n",
    "    ax.scatter(data[1:-1], yn[:-1], color='white', s=18, zorder=2, edgecolor='red')\n",
    "    ax.set_xlim(data[0], data[-1])\n",
    "    ax.set_ylim([-0.01, 1.01])\n",
    "    plt.xlabel(\" X\",fontsize=15)\n",
    "    plt.ylabel(\"CDF F(x)\",fontsize=15)\n",
    "    plt.xticks(fontsize=15)\n",
    "    plt.yticks(fontsize=15)\n",
    "    plt.grid(True)\n",
    "    plt.show()"
   ]
  },
  {
   "cell_type": "markdown",
   "id": "063b0d58",
   "metadata": {},
   "source": [
    "Plot CDF\n",
    "\n",
    "$$\n",
    "F(x)= \\Bigg\\{ \\begin{matrix}\n",
    "0 & x<−2 \\\\\n",
    "0.2\t& −2≤x<−1 \\\\\n",
    "0.6\t& −1≤x<0 \\\\\n",
    "0.7\t& 0≤x<1 \\\\\n",
    "0.9\t& 1≤x<2 \\\\\n",
    "1 &\t2≤x\n",
    "\\end{matrix}\n",
    "$$"
   ]
  },
  {
   "cell_type": "code",
   "execution_count": 70,
   "id": "b54e14e8",
   "metadata": {},
   "outputs": [
    {
     "data": {
      "text/plain": [
       "<Figure size 648x432 with 0 Axes>"
      ]
     },
     "metadata": {},
     "output_type": "display_data"
    },
    {
     "data": {
      "image/png": "[encoded data removed]",
      "text/plain": [
       "<Figure size 648x432 with 1 Axes>"
      ]
     },
     "metadata": {
      "needs_background": "light"
     },
     "output_type": "display_data"
    }
   ],
   "source": [
    "Fx = [0, 0.2, 0.6, 0.7, 0.9, 1]\n",
    "x = [-3, -2, -1, 0, 1, 2, 3]\n",
    "plot_CDF(x, Fx)"
   ]
  },
  {
   "cell_type": "code",
   "execution_count": 71,
   "id": "3767aece",
   "metadata": {},
   "outputs": [],
   "source": [
    "# The pmf f(x)\n",
    "x = [-2, -1, 0, 1, 2]\n",
    "fx = [0.2, 0.4, 0.1, 0.2, 0.1]"
   ]
  },
  {
   "cell_type": "code",
   "execution_count": 72,
   "id": "01a07334",
   "metadata": {},
   "outputs": [
    {
     "data": {
      "image/png": "[encoded data removed]",
      "text/plain": [
       "<Figure size 648x432 with 1 Axes>"
      ]
     },
     "metadata": {
      "needs_background": "light"
     },
     "output_type": "display_data"
    }
   ],
   "source": [
    "plot_pmf(x, fx)"
   ]
  },
  {
   "cell_type": "markdown",
   "id": "f2931ede",
   "metadata": {},
   "source": [
    "### Expected Value and Variance"
   ]
  },
  {
   "cell_type": "code",
   "execution_count": 74,
   "id": "b9d344a9",
   "metadata": {},
   "outputs": [],
   "source": [
    "import numpy as np\n",
    "def E(x, fx ):\n",
    "    return np.dot(x,fx)\n",
    "def V(x, fx):\n",
    "    return np.dot(np.power(x, 2), fx) - E(x, fx)**2"
   ]
  },
  {
   "cell_type": "markdown",
   "id": "841ba23d",
   "metadata": {},
   "source": [
    "**Ex:**\n",
    "\n",
    "Determine the mean and variance of X\n",
    "\n",
    "| | | | | | |\n",
    "|--|--|--|--|--|--|\n",
    "x\t| -2 |-1 |0\t |1\t |2\n",
    "f(x) |\t0.2\t|0.4 |0.1 |0.2 |0.1\n"
   ]
  },
  {
   "cell_type": "code",
   "execution_count": 76,
   "id": "2fbd7254",
   "metadata": {},
   "outputs": [
    {
     "name": "stdout",
     "output_type": "stream",
     "text": [
      "-0.4000000000000001\n"
     ]
    }
   ],
   "source": [
    "x = [-2, -1, 0, 1, 2]\n",
    "fx = [0.2, 0.4, 0.1, 0.2, 0.1]\n",
    "print(E(x, fx))"
   ]
  },
  {
   "cell_type": "code",
   "execution_count": 77,
   "id": "f387c809",
   "metadata": {},
   "outputs": [
    {
     "name": "stdout",
     "output_type": "stream",
     "text": [
      "1.6400000000000001\n"
     ]
    }
   ],
   "source": [
    "print(V(x, fx))"
   ]
  },
  {
   "cell_type": "markdown",
   "id": "2bf16f00",
   "metadata": {},
   "source": [
    "**Ex** \n",
    "\n",
    "Two discrete random variables X and Y take values (0, 2, 5, 5, 7, 10, 11) and (3, 5, 8, 8, 10, 13, 14). All values have equal probability. How are their means variances related?"
   ]
  },
  {
   "cell_type": "code",
   "execution_count": 78,
   "id": "25b65770",
   "metadata": {},
   "outputs": [],
   "source": [
    "x = [0, 2, 5, 5, 7, 10, 11]\n",
    "y = [3, 5, 8, 8, 10, 13, 14]\n",
    "# y = x + 3"
   ]
  },
  {
   "cell_type": "code",
   "execution_count": 79,
   "id": "c848844d",
   "metadata": {},
   "outputs": [
    {
     "data": {
      "text/plain": [
       "[0.14285714285714285,\n",
       " 0.14285714285714285,\n",
       " 0.14285714285714285,\n",
       " 0.14285714285714285,\n",
       " 0.14285714285714285,\n",
       " 0.14285714285714285,\n",
       " 0.14285714285714285]"
      ]
     },
     "execution_count": 79,
     "metadata": {},
     "output_type": "execute_result"
    }
   ],
   "source": [
    "fx = [1/len(x)]*len(x)\n",
    "fx"
   ]
  },
  {
   "cell_type": "code",
   "execution_count": 80,
   "id": "0ce12da1",
   "metadata": {},
   "outputs": [
    {
     "data": {
      "text/plain": [
       "5.7142857142857135"
      ]
     },
     "execution_count": 80,
     "metadata": {},
     "output_type": "execute_result"
    }
   ],
   "source": [
    "E(x, fx)"
   ]
  },
  {
   "cell_type": "code",
   "execution_count": 81,
   "id": "0c29c5c8",
   "metadata": {},
   "outputs": [
    {
     "data": {
      "text/plain": [
       "13.632653061224495"
      ]
     },
     "execution_count": 81,
     "metadata": {},
     "output_type": "execute_result"
    }
   ],
   "source": [
    "V(x, fx)"
   ]
  },
  {
   "cell_type": "code",
   "execution_count": 82,
   "id": "f3397abd",
   "metadata": {},
   "outputs": [],
   "source": [
    "fy = fx"
   ]
  },
  {
   "cell_type": "code",
   "execution_count": 83,
   "id": "58d89bcb",
   "metadata": {},
   "outputs": [
    {
     "data": {
      "text/plain": [
       "8.714285714285714"
      ]
     },
     "execution_count": 83,
     "metadata": {},
     "output_type": "execute_result"
    }
   ],
   "source": [
    "E(y, fy )"
   ]
  },
  {
   "cell_type": "code",
   "execution_count": 84,
   "id": "be58e742",
   "metadata": {},
   "outputs": [
    {
     "data": {
      "text/plain": [
       "13.632653061224502"
      ]
     },
     "execution_count": 84,
     "metadata": {},
     "output_type": "execute_result"
    }
   ],
   "source": [
    "V(y, fy)"
   ]
  },
  {
   "cell_type": "code",
   "execution_count": 85,
   "id": "6d98ae90",
   "metadata": {},
   "outputs": [
    {
     "data": {
      "image/png": "[encoded data removed]",
      "text/plain": [
       "<Figure size 648x432 with 1 Axes>"
      ]
     },
     "metadata": {
      "needs_background": "light"
     },
     "output_type": "display_data"
    }
   ],
   "source": [
    "plot_pmf(x, fx)"
   ]
  },
  {
   "cell_type": "code",
   "execution_count": 86,
   "id": "91aaab7a",
   "metadata": {},
   "outputs": [
    {
     "data": {
      "image/png": "[encoded data removed]",
      "text/plain": [
       "<Figure size 648x432 with 1 Axes>"
      ]
     },
     "metadata": {
      "needs_background": "light"
     },
     "output_type": "display_data"
    }
   ],
   "source": [
    "plot_pmf(y, fy)"
   ]
  },
  {
   "cell_type": "markdown",
   "id": "795e3a4c",
   "metadata": {},
   "source": [
    "## Discrete Distributions"
   ]
  },
  {
   "cell_type": "markdown",
   "id": "ada4b496",
   "metadata": {},
   "source": [
    "### Uniform distribution"
   ]
  },
  {
   "cell_type": "code",
   "execution_count": 87,
   "id": "e526ad6e",
   "metadata": {},
   "outputs": [
    {
     "data": {
      "text/plain": [
       "[0, 1, 2, 3, 4, 5, 6, 7, 8, 9, 10, 11, 12, 13, 14, 15, 16, 17, 18, 19]"
      ]
     },
     "execution_count": 87,
     "metadata": {},
     "output_type": "execute_result"
    }
   ],
   "source": [
    "x = [a for a in range(20)]\n",
    "x"
   ]
  },
  {
   "cell_type": "code",
   "execution_count": 88,
   "id": "8ccb0bef",
   "metadata": {},
   "outputs": [
    {
     "data": {
      "text/plain": [
       "[0.05,\n",
       " 0.05,\n",
       " 0.05,\n",
       " 0.05,\n",
       " 0.05,\n",
       " 0.05,\n",
       " 0.05,\n",
       " 0.05,\n",
       " 0.05,\n",
       " 0.05,\n",
       " 0.05,\n",
       " 0.05,\n",
       " 0.05,\n",
       " 0.05,\n",
       " 0.05,\n",
       " 0.05,\n",
       " 0.05,\n",
       " 0.05,\n",
       " 0.05,\n",
       " 0.05]"
      ]
     },
     "execution_count": 88,
     "metadata": {},
     "output_type": "execute_result"
    }
   ],
   "source": [
    "a = 0\n",
    "b = 19 \n",
    "fx = [1/20] * 20\n",
    "fx "
   ]
  },
  {
   "cell_type": "code",
   "execution_count": 89,
   "id": "9a7ddc4b",
   "metadata": {},
   "outputs": [
    {
     "data": {
      "image/png": "[encoded data removed]",
      "text/plain": [
       "<Figure size 648x432 with 1 Axes>"
      ]
     },
     "metadata": {
      "needs_background": "light"
     },
     "output_type": "display_data"
    }
   ],
   "source": [
    "plot_pmf(x, fx)"
   ]
  },
  {
   "cell_type": "code",
   "execution_count": 90,
   "id": "ff08a230",
   "metadata": {},
   "outputs": [
    {
     "data": {
      "text/plain": [
       "9.5"
      ]
     },
     "execution_count": 90,
     "metadata": {},
     "output_type": "execute_result"
    }
   ],
   "source": [
    "E(x, fx)"
   ]
  },
  {
   "cell_type": "code",
   "execution_count": 91,
   "id": "db6f2cf2",
   "metadata": {},
   "outputs": [
    {
     "name": "stdout",
     "output_type": "stream",
     "text": [
      "33.25\n"
     ]
    }
   ],
   "source": [
    "print(\"%.2f\"%V(x, fx))"
   ]
  },
  {
   "cell_type": "code",
   "execution_count": 92,
   "id": "201cfce3",
   "metadata": {},
   "outputs": [
    {
     "data": {
      "text/plain": [
       "33.25"
      ]
     },
     "execution_count": 92,
     "metadata": {},
     "output_type": "execute_result"
    }
   ],
   "source": [
    "(20**2 - 1)/12"
   ]
  },
  {
   "cell_type": "code",
   "execution_count": 93,
   "id": "7cdf8369",
   "metadata": {},
   "outputs": [],
   "source": [
    "from scipy.stats import uniform\n",
    "a, b = 0, 19\n",
    "rv = uniform(a, b)"
   ]
  },
  {
   "cell_type": "code",
   "execution_count": 94,
   "id": "3794b8ca",
   "metadata": {},
   "outputs": [],
   "source": [
    "Fx = rv.cdf(np.arange(20))"
   ]
  },
  {
   "cell_type": "code",
   "execution_count": 95,
   "id": "60a476e1",
   "metadata": {},
   "outputs": [
    {
     "data": {
      "text/plain": [
       "array([0.        , 0.05263158, 0.10526316, 0.15789474, 0.21052632,\n",
       "       0.26315789, 0.31578947, 0.36842105, 0.42105263, 0.47368421,\n",
       "       0.52631579, 0.57894737, 0.63157895, 0.68421053, 0.73684211,\n",
       "       0.78947368, 0.84210526, 0.89473684, 0.94736842, 1.        ])"
      ]
     },
     "execution_count": 95,
     "metadata": {},
     "output_type": "execute_result"
    }
   ],
   "source": [
    "Fx"
   ]
  },
  {
   "cell_type": "code",
   "execution_count": 96,
   "id": "46a2e699",
   "metadata": {},
   "outputs": [
    {
     "data": {
      "text/plain": [
       "<Figure size 648x432 with 0 Axes>"
      ]
     },
     "metadata": {},
     "output_type": "display_data"
    },
    {
     "data": {
      "image/png": "[encoded data removed]",
      "text/plain": [
       "<Figure size 648x432 with 1 Axes>"
      ]
     },
     "metadata": {
      "needs_background": "light"
     },
     "output_type": "display_data"
    }
   ],
   "source": [
    "plot_CDF([-1]+x, Fx)"
   ]
  },
  {
   "cell_type": "markdown",
   "id": "9790ce84",
   "metadata": {},
   "source": [
    "### Binomial Distribution"
   ]
  },
  {
   "cell_type": "code",
   "execution_count": 97,
   "id": "d093f768",
   "metadata": {},
   "outputs": [],
   "source": [
    "from scipy.stats import binom"
   ]
  },
  {
   "cell_type": "code",
   "execution_count": 98,
   "id": "911bdda3",
   "metadata": {},
   "outputs": [],
   "source": [
    "p, n = 0.5, 20\n",
    "rv = binom( n, p )"
   ]
  },
  {
   "cell_type": "code",
   "execution_count": 99,
   "id": "e51940fc",
   "metadata": {},
   "outputs": [
    {
     "data": {
      "image/png": "[encoded data removed]",
      "text/plain": [
       "<Figure size 648x432 with 1 Axes>"
      ]
     },
     "metadata": {
      "needs_background": "light"
     },
     "output_type": "display_data"
    }
   ],
   "source": [
    "x = np.arange(0, n + 1)\n",
    "fx = rv.pmf(x)\n",
    "plot_pmf(x, fx)"
   ]
  },
  {
   "cell_type": "code",
   "execution_count": 100,
   "id": "7d0894d4",
   "metadata": {},
   "outputs": [],
   "source": [
    "Fx = rv.cdf(x)"
   ]
  },
  {
   "cell_type": "code",
   "execution_count": 101,
   "id": "c164ba48",
   "metadata": {},
   "outputs": [
    {
     "data": {
      "text/plain": [
       "array([9.53674316e-07, 2.00271606e-05, 2.01225281e-04, 1.28841400e-03,\n",
       "       5.90896606e-03, 2.06947327e-02, 5.76591492e-02, 1.31587982e-01,\n",
       "       2.51722336e-01, 4.11901474e-01, 5.88098526e-01, 7.48277664e-01,\n",
       "       8.68412018e-01, 9.42340851e-01, 9.79305267e-01, 9.94091034e-01,\n",
       "       9.98711586e-01, 9.99798775e-01, 9.99979973e-01, 9.99999046e-01,\n",
       "       1.00000000e+00])"
      ]
     },
     "execution_count": 101,
     "metadata": {},
     "output_type": "execute_result"
    }
   ],
   "source": [
    "Fx"
   ]
  },
  {
   "cell_type": "code",
   "execution_count": 102,
   "id": "4f73ffc8",
   "metadata": {},
   "outputs": [
    {
     "data": {
      "text/plain": [
       "<Figure size 648x432 with 0 Axes>"
      ]
     },
     "metadata": {},
     "output_type": "display_data"
    },
    {
     "data": {
      "image/png": "[encoded data removed]",
      "text/plain": [
       "<Figure size 648x432 with 1 Axes>"
      ]
     },
     "metadata": {
      "needs_background": "light"
     },
     "output_type": "display_data"
    }
   ],
   "source": [
    "plot_CDF([-1] + list(x), list(Fx))\n"
   ]
  },
  {
   "cell_type": "markdown",
   "id": "d6c24c48",
   "metadata": {},
   "source": [
    "### Geometric Distribution "
   ]
  },
  {
   "cell_type": "code",
   "execution_count": 112,
   "id": "32d21d55",
   "metadata": {},
   "outputs": [],
   "source": [
    "from scipy.stats import geom\n",
    "rv = geom(0.2)"
   ]
  },
  {
   "cell_type": "code",
   "execution_count": 131,
   "id": "862618e3",
   "metadata": {},
   "outputs": [],
   "source": [
    "x = np.arange(20)\n",
    "fx = rv.pmf(x)\n"
   ]
  },
  {
   "cell_type": "code",
   "execution_count": 132,
   "id": "9bf5d529",
   "metadata": {},
   "outputs": [
    {
     "data": {
      "image/png": "[encoded data removed]",
      "text/plain": [
       "<Figure size 648x432 with 1 Axes>"
      ]
     },
     "metadata": {
      "needs_background": "light"
     },
     "output_type": "display_data"
    }
   ],
   "source": [
    "plot_pmf(x, fx)"
   ]
  },
  {
   "cell_type": "code",
   "execution_count": 133,
   "id": "9e44fd37",
   "metadata": {},
   "outputs": [],
   "source": [
    "Fx = rv.cdf(x)"
   ]
  },
  {
   "cell_type": "code",
   "execution_count": 136,
   "id": "dd7519b7",
   "metadata": {},
   "outputs": [
    {
     "data": {
      "text/plain": [
       "<Figure size 648x432 with 0 Axes>"
      ]
     },
     "metadata": {},
     "output_type": "display_data"
    },
    {
     "data": {
      "image/png": "[encoded data removed]",
      "text/plain": [
       "<Figure size 648x432 with 1 Axes>"
      ]
     },
     "metadata": {
      "needs_background": "light"
     },
     "output_type": "display_data"
    }
   ],
   "source": [
    "plot_CDF(list(x)+[20], list(Fx))"
   ]
  },
  {
   "cell_type": "markdown",
   "id": "a01b286b",
   "metadata": {},
   "source": [
    "Docs\n",
    "\n",
    "* https://docs.scipy.org/doc/scipy/reference/stats.html#discrete-distributions"
   ]
  }
 ],
 "metadata": {
  "kernelspec": {
   "display_name": "Python 3 (ipykernel)",
   "language": "python",
   "name": "python3"
  },
  "language_info": {
   "codemirror_mode": {
    "name": "ipython",
    "version": 3
   },
   "file_extension": ".py",
   "mimetype": "text/x-python",
   "name": "python",
   "nbconvert_exporter": "python",
   "pygments_lexer": "ipython3",
   "version": "3.8.10"
  }
 },
 "nbformat": 4,
 "nbformat_minor": 5
}
