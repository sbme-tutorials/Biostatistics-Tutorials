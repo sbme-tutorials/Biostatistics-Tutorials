{
 "cells": [
  {
   "cell_type": "markdown",
   "id": "a8a27672",
   "metadata": {},
   "source": [
    "#  Discrete Random Variables"
   ]
  },
  {
   "cell_type": "markdown",
   "id": "e10e3d3d",
   "metadata": {},
   "source": [
    "## Random Variable (RV) :\n",
    "* Real number for random experiment outcome\n",
    "* Finite number of outcomes : Discrete RV (DRV)\n",
    "* Infinite number of outcomes : Continuous RV (CRV)\n"
   ]
  },
  {
   "cell_type": "markdown",
   "id": "a1a14199",
   "metadata": {},
   "source": [
    "## Probability Mass Function (PMF) \n",
    "\n",
    "* Probability function (distribution) of RV \n",
    "\n",
    "$$\n",
    "pmf = f(x) = P(X = x)\n",
    "$$\n",
    "\n",
    "Where \n",
    "$$\\sum_{\\forall x} f(x) = 1$$"
   ]
  },
  {
   "cell_type": "markdown",
   "id": "8938221a",
   "metadata": {},
   "source": [
    "## Cumulative Distribution Function (CDF)\n",
    "\n",
    "* Probability sum till specific value of the RV\n",
    "\n",
    "$$F(x) = P(X ≤ x) = \\sum_{x_i < x} f(x_i)$$\n",
    "\n",
    "\n",
    "Where \n",
    "\n",
    "$$0 \\leq F(x) \\leq 1$$\n",
    "\n",
    "**Notes** \n",
    "\n",
    "$P(X > a) = 1 - P(X ≤ a) = 1 - F(a)$ \n",
    "\n",
    "For any two number a and b with a ≤ b:\n",
    "\n",
    "$P(a < X ≤ b) = F(b) − F(a)$\n",
    "\n",
    "$P(a ≤ X ≤ b) = F(b) − F(a^{-})$\n",
    "\n",
    "$P(a < X < b) = F(b^{-}) − F(a)$\n",
    "\n",
    "$P(a ≤ X < b) = F(b^{-}) − F(a^{-})$\n",
    "\n",
    "\n",
    "Where\n",
    "\n",
    "$a^{-}$ is value up to $a$ and not including $a$ (left side limit).\n"
   ]
  },
  {
   "cell_type": "markdown",
   "id": "a93d46e1",
   "metadata": {},
   "source": [
    "### Exercise 1\n",
    "\n",
    "The sample space of a random experiment is {a, b, c, d,\n",
    "e, f}, and each outcome is equally likely. A random variable is\n",
    "defined as follows:\n",
    "\n",
    "\n",
    "|outcome| a| b| c| d| e| f|\n",
    "|---|---|---|---|---|---|---|\n",
    "|x| 0| 0 |1.5| 1.5| 2| 3|\n",
    "\n",
    "Determine the probability mass function of a. Use the\n",
    "probability mass function to determine the following\n",
    "probabilities:\n",
    "\n",
    "(a) $P(X = 1.5)$\n",
    "\n",
    "(b) $P( 0.5 < X < 2.7)$\n",
    "\n",
    "(c) $P(X > 3)$\n",
    "\n",
    "(d) $P(0 \\leq X < 3)$ \n",
    "\n",
    "(e) $P(X = 0$ or $X = 2)$"
   ]
  },
  {
   "cell_type": "markdown",
   "id": "1e15fce9",
   "metadata": {},
   "source": [
    "### Exercise 2 \n",
    "\n",
    "verify that the following function is probability mass functions, and determine the requested\n",
    "probabilities.\n",
    "\n",
    "$$\n",
    "f(x) = \\frac{2x+1}{25}, x = 0, 1, 2, 3, 4\n",
    "$$\n",
    "\n",
    "(a) $P (X= 4)$ \n",
    "\n",
    "(b) $P (X ≤ 1)$\n",
    "\n",
    "(c) $P( 2 ≤ X < 4)$  \n",
    "\n",
    "(d) $P(X  > -10 )$"
   ]
  },
  {
   "cell_type": "markdown",
   "id": "59ebce87",
   "metadata": {},
   "source": [
    "### Exercise 3\n",
    "\n",
    "An optical inspection system is used to distinguish\n",
    "among different part types. The probability of a correct classification of any part is $0.98$. Suppose that **three** parts are inspected\n",
    "and that the classifications are **independent**. Let the random\n",
    "variable $X$ denote the number of parts that are correctly classified. Determine the probability mass function of $X$."
   ]
  },
  {
   "cell_type": "markdown",
   "id": "1f8f99e0",
   "metadata": {},
   "source": [
    "### Exercise 4\n",
    "\n",
    "An assembly consists of **three** mechanical components. Suppose that the probabilities that the first, second,\n",
    "and third components meet specifications are 0.95, 0.98, and\n",
    "0.99, respectively. Assume that the components are **independent**. Determine the probability mass function of the number of\n",
    "components in the assembly that meet specifications"
   ]
  },
  {
   "cell_type": "markdown",
   "id": "d47f8e29",
   "metadata": {},
   "source": [
    "### Exercise 5\n",
    "\n",
    "Determine the cumulative distribution function for\n",
    "the random variable x that has the following pmf\n",
    "\n",
    "|| ||  |  | |\n",
    "|---|---|---|---|---|---|\n",
    "|x | -2 | -1 | 0 | 1 | 2 |\n",
    "|f(x) |0.2 | 0.4 | 0.1 | 0.2 | 0.1|\n",
    "\n",
    "and find \n",
    "\n",
    "(a) $P(X ≤ 1.25)$\n",
    "\n",
    "(b) $P(X ≤ 2.2)$\n",
    "\n",
    "(c) $P(-1.1 < X ≤ 1.25)$\n",
    "\n",
    "(d) $P(X > 0)$"
   ]
  },
  {
   "cell_type": "markdown",
   "id": "0eb47e66",
   "metadata": {},
   "source": [
    "### Exercise 6\n",
    "\n",
    "Verify that the following functions are cumulative distribution\n",
    "functions, and determine the probability mass function and the\n",
    "requested probabilities\n",
    "\n",
    "\n",
    "$$\n",
    "F(x) =  \\Bigg\\{ \\begin{matrix}\n",
    "0 & x < 1\\\\\n",
    "0.5 &  1 \\leq x < 3\\\\\n",
    "1&  3 \\leq x \\\n",
    "\\end{matrix}\n",
    "$$\n",
    "\n",
    "(a) $P (X ≤ 3)$\n",
    "\n",
    "(b) $P (X ≤ 2)$\n",
    "\n",
    "(c) $P(1 ≤ X ≤ 2)$\n",
    "\n",
    "(d) $P(X > 2 )$\n",
    "\n"
   ]
  },
  {
   "cell_type": "markdown",
   "id": "08591eaf",
   "metadata": {},
   "source": [
    "## Expected value (mean) and Variance of RV\n",
    "\n",
    "### Expected Value\n",
    "\n",
    "* The mean or average value of RV. \n",
    "* Weigted sum of RV.\n",
    "\n",
    "$$\n",
    "\\mu = E[X]   =\\sum_{\\forall x_i} x_i.f(x_i)\n",
    "$$\n",
    "\n",
    "For any function of the RV $g(x)$\n",
    "\n",
    "\n",
    "$$\n",
    "E[g(x)]   =\\sum_{\\forall x_i} g(x_i).f(x_i)\n",
    "$$\n",
    "\n",
    "**Properties**\n",
    "\n",
    "* $E[a] = a$ where $a$ is constant\n",
    "* $E[X]$ is a linear operator $E[aX+b] = aE[x] + b$\n",
    "\n",
    "\n",
    "### Variance\n",
    "\n",
    "* Measures how values variates with respect to the mean \n",
    "\n",
    "$$\n",
    "V(X) = E[(x-\\mu)^2] = \\sum_{\\forall x_i}(x_i − µ)^2 f(x_i)\n",
    "$$\n",
    "\n",
    "It can be written as \n",
    "$$\n",
    "V(X) = E[(x-\\mu)^2] = E[x^2 - 2\\mu x + \\mu^2] = E[x^2] - 2\\mu E[x]+ \\mu^2  \n",
    "$$\n",
    "\n",
    "Where $E[x] = \\mu$\n",
    "\n",
    "$$\n",
    "V(X) = E[x^2] - \\mu^2  =   \\sum_{\\forall x_i}x_i^2 f(x_i) - \\mu^2\n",
    "$$\n",
    "\n",
    "**Standard Deviation** $\\sigma$\n",
    "\n",
    "$$\n",
    "\\sigma_X = \\sqrt{V(X)}\n",
    "$$\n",
    "\n",
    "**Properties**\n",
    "\n",
    "* $V (X + b) = V(X)$\n",
    "* $V (aX + b) = a^2V(X)$\n",
    "* $V(x) \\geq 0$"
   ]
  },
  {
   "cell_type": "markdown",
   "id": "2ac96a52",
   "metadata": {},
   "source": [
    "### Exerciese 7\n",
    "\n",
    "Determine $c$ and find the mean and variance of X \n",
    "\n",
    "\n",
    "|| ||  |  | |\n",
    "|---|---|---|---|---|---|\n",
    "|x | -2 | -1 | 0 | 1 | 2 |\n",
    "|f(x) |0.2 | $c$| 0.1 | 0.2 | 0.1|\n",
    "\n"
   ]
  },
  {
   "cell_type": "markdown",
   "id": "a5c52240",
   "metadata": {},
   "source": [
    "### Exercise 8\n",
    "Two discrete random variables X and Y take values (0, 2, 5, 5, 7, 10, 11) and (3, 5, 8, 8, 10, 13, 14). All values have equal probability. How are their variances related? Try to use properties of variance to answer without precisely calculating the variances."
   ]
  },
  {
   "cell_type": "markdown",
   "id": "a910ccec",
   "metadata": {},
   "source": [
    "### Exercise 9 \n",
    "\n",
    "**True or False and why**\n",
    "\n",
    "May there be a random variable X with $E[X] = 3$ and $E[X^2] = 8$?\n"
   ]
  },
  {
   "cell_type": "markdown",
   "id": "f6485314",
   "metadata": {},
   "source": [
    "### Exercise 10 \n",
    "\n",
    "Suppose that X has a discrete uniform distribution on\n",
    "the integers 0 through 9. Determine the mean, variance, and\n",
    "standard deviation of the random variable Y = 5X and compare to the corresponding results for X."
   ]
  }
 ],
 "metadata": {
  "kernelspec": {
   "display_name": "Python 3 (ipykernel)",
   "language": "python",
   "name": "python3"
  },
  "language_info": {
   "codemirror_mode": {
    "name": "ipython",
    "version": 3
   },
   "file_extension": ".py",
   "mimetype": "text/x-python",
   "name": "python",
   "nbconvert_exporter": "python",
   "pygments_lexer": "ipython3",
   "version": "3.8.10"
  }
 },
 "nbformat": 4,
 "nbformat_minor": 5
}
