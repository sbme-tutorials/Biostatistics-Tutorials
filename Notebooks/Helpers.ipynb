{
 "cells": [
  {
   "cell_type": "code",
   "execution_count": 1,
   "id": "b75f7950",
   "metadata": {},
   "outputs": [
    {
     "name": "stdout",
     "output_type": "stream",
     "text": [
      "xbar = 7068.08\n",
      "-----------\n",
      "x-xbar\n",
      "=========\n",
      "-87.08\n",
      "30.92\n",
      "-138.08\n",
      "-76.08\n",
      "449.92\n",
      "31.92\n",
      "-133.08\n",
      "449.92\n",
      "-55.08\n",
      "-268.08\n",
      "-27.08\n",
      "-178.08\n",
      "-----------\n",
      "(x-xbar)^2\n",
      "=========\n",
      "7583.51\n",
      "955.84\n",
      "19067.01\n",
      "5788.67\n",
      "202425.01\n",
      "1018.67\n",
      "17711.17\n",
      "202425.01\n",
      "3034.17\n",
      "71868.67\n",
      "733.51\n",
      "31713.67\n",
      "----------\n",
      "s = 216.86\n"
     ]
    }
   ],
   "source": [
    "import numpy as np \n",
    "x = [6981, 7099, 6930, 6992, 7518, 7100, 6935, 7518, 7013, 6800, 7041, 6890]\n",
    "xbar = sum(x)/len(x)\n",
    "print(\"xbar = %.2f\"%xbar)\n",
    "x_minus_xbar = [a-xbar for a in x]\n",
    "print(\"-----------\\nx-xbar\\n=========\")\n",
    "for a in x_minus_xbar:\n",
    "    print(\"%0.2f\"%a)\n",
    "    \n",
    "x_minus_xbar_square = [a**2 for a in x_minus_xbar]\n",
    "print(\"-----------\\n(x-xbar)^2\\n=========\")\n",
    "for a in x_minus_xbar_square:\n",
    "    print(\"%0.2f\"%a)\n",
    "\n",
    "s2 = sum(x_minus_xbar_square)/len(x)\n",
    "print(\"----------\\ns = %.2f\"%s2**0.5)"
   ]
  },
  {
   "cell_type": "code",
   "execution_count": 2,
   "id": "1709685d",
   "metadata": {},
   "outputs": [
    {
     "data": {
      "text/plain": [
       "[6800, 6890, 6930, 6935, 6981, 6992, 7013, 7041, 7099, 7100, 7518, 7518]"
      ]
     },
     "execution_count": 2,
     "metadata": {},
     "output_type": "execute_result"
    }
   ],
   "source": [
    "sorted(x)"
   ]
  },
  {
   "cell_type": "code",
   "execution_count": 3,
   "id": "ddc94727",
   "metadata": {},
   "outputs": [
    {
     "data": {
      "text/plain": [
       "718"
      ]
     },
     "execution_count": 3,
     "metadata": {},
     "output_type": "execute_result"
    }
   ],
   "source": [
    "np.max(x) - np.min(x)"
   ]
  },
  {
   "cell_type": "code",
   "execution_count": 4,
   "id": "affd8a56",
   "metadata": {},
   "outputs": [
    {
     "name": "stderr",
     "output_type": "stream",
     "text": [
      "/tmp/ipykernel_11436/531709809.py:12: DeprecationWarning: `np.float` is a deprecated alias for the builtin `float`. To silence this warning, use `float` by itself. Doing this will not modify any behavior and is safe. If you specifically wanted the numpy scalar type, use `np.float64` here.\n",
      "Deprecated in NumPy 1.20; for more details and guidance: https://numpy.org/devdocs/release/1.20.0-notes.html#deprecations\n",
      "  Y = Y.astype(np.float)\n"
     ]
    },
    {
     "data": {
      "image/png": "[encoded data removed]",
      "text/plain": [
       "<Figure size 720x360 with 1 Axes>"
      ]
     },
     "metadata": {
      "needs_background": "light"
     },
     "output_type": "display_data"
    }
   ],
   "source": [
    "import matplotlib.pyplot as plt\n",
    "from IPython.core.debugger import set_trace\n",
    "hist, edges = np.histogram(x, bins= 5*len(x))\n",
    "# print(hist)\n",
    "\n",
    "y = np.arange(1,hist.max()+1)\n",
    "X,Y = np.meshgrid(edges[:-1],y)\n",
    "\n",
    "# print(X)\n",
    "# print(Y)\n",
    "\n",
    "Y = Y.astype(np.float)\n",
    "Y[Y>hist] = np.nan\n",
    "plt.figure(figsize=(10,5))\n",
    "plt.scatter(X,Y)\n",
    "plt.ylim([0.5, 5.5])\n",
    "plt.vlines(xbar, 0.5, 3, colors='k')\n",
    "plt.vlines(7002.5, 0.5, 3, colors='r')\n",
    "plt.legend(['dot graph','mean', 'median'])\n",
    "\n",
    "\n",
    "\n",
    "# plt.scatter(X,Y, c=Y<=hist)\n",
    "# \n",
    "plt.show()"
   ]
  },
  {
   "cell_type": "code",
   "execution_count": 5,
   "id": "eb539273",
   "metadata": {},
   "outputs": [],
   "source": [
    "import scipy.stats as st\n"
   ]
  },
  {
   "cell_type": "code",
   "execution_count": 7,
   "id": "cb954036",
   "metadata": {},
   "outputs": [
    {
     "data": {
      "text/plain": [
       "0.3085375387259869"
      ]
     },
     "execution_count": 7,
     "metadata": {},
     "output_type": "execute_result"
    }
   ],
   "source": [
    "# input z, output P( Z < z)\n",
    "st.norm.cdf(-0.5)"
   ]
  },
  {
   "cell_type": "code",
   "execution_count": 10,
   "id": "22b23f18",
   "metadata": {},
   "outputs": [
    {
     "data": {
      "text/plain": [
       "-0.5001066271622767"
      ]
     },
     "execution_count": 10,
     "metadata": {},
     "output_type": "execute_result"
    }
   ],
   "source": [
    "# input P( Z < z), output z\n",
    "\n",
    "st.norm.ppf(0.3085)"
   ]
  },
  {
   "cell_type": "code",
   "execution_count": 14,
   "id": "5f7c84ff",
   "metadata": {},
   "outputs": [],
   "source": [
    "def conv(x, mu, sig, n):\n",
    "    return (x-mu)/(sig/(n**0.5))"
   ]
  },
  {
   "cell_type": "code",
   "execution_count": 15,
   "id": "196af9be",
   "metadata": {},
   "outputs": [
    {
     "data": {
      "text/plain": [
       "0.5"
      ]
     },
     "execution_count": 15,
     "metadata": {},
     "output_type": "execute_result"
    }
   ],
   "source": [
    "conv(75.75, 75.5, 3.5, 49)"
   ]
  },
  {
   "cell_type": "code",
   "execution_count": 16,
   "id": "ff425e4b",
   "metadata": {},
   "outputs": [
    {
     "data": {
      "text/plain": [
       "-0.0447213595499958"
      ]
     },
     "execution_count": 16,
     "metadata": {},
     "output_type": "execute_result"
    }
   ],
   "source": [
    "conv(2499, 2500, 50, 5)"
   ]
  },
  {
   "cell_type": "code",
   "execution_count": 17,
   "id": "54d67d20",
   "metadata": {},
   "outputs": [
    {
     "data": {
      "text/plain": [
       "0.447213595499958"
      ]
     },
     "execution_count": 17,
     "metadata": {},
     "output_type": "execute_result"
    }
   ],
   "source": [
    "conv(2510, 2500, 50, 5)"
   ]
  },
  {
   "cell_type": "code",
   "execution_count": 18,
   "id": "6d652b01",
   "metadata": {},
   "outputs": [
    {
     "data": {
      "text/plain": [
       "0.4821732168498405"
      ]
     },
     "execution_count": 18,
     "metadata": {},
     "output_type": "execute_result"
    }
   ],
   "source": [
    "st.norm.cdf(-0.0447)"
   ]
  },
  {
   "cell_type": "code",
   "execution_count": 19,
   "id": "265389c3",
   "metadata": {},
   "outputs": [
    {
     "data": {
      "text/plain": [
       "0.6725624700529677"
      ]
     },
     "execution_count": 19,
     "metadata": {},
     "output_type": "execute_result"
    }
   ],
   "source": [
    "st.norm.cdf(0.447)"
   ]
  },
  {
   "cell_type": "code",
   "execution_count": 20,
   "id": "c3a0d517",
   "metadata": {},
   "outputs": [
    {
     "data": {
      "text/plain": [
       "0.19038925320312716"
      ]
     },
     "execution_count": 20,
     "metadata": {},
     "output_type": "execute_result"
    }
   ],
   "source": [
    "st.norm.cdf(0.447)-st.norm.cdf(-0.0447)"
   ]
  },
  {
   "cell_type": "code",
   "execution_count": 40,
   "id": "e1dd7867",
   "metadata": {},
   "outputs": [
    {
     "data": {
      "text/plain": [
       "(26.326949790485706, 29.673050209514294)"
      ]
     },
     "execution_count": 40,
     "metadata": {},
     "output_type": "execute_result"
    }
   ],
   "source": [
    "st.norm.interval(0.99, 28, 2.25/(12)**0.5)"
   ]
  },
  {
   "cell_type": "code",
   "execution_count": 33,
   "id": "00f71254",
   "metadata": {},
   "outputs": [
    {
     "data": {
      "text/plain": [
       "(3229.907846318141, 3270.092153681859)"
      ]
     },
     "execution_count": 33,
     "metadata": {},
     "output_type": "execute_result"
    }
   ],
   "source": [
    "st.t.interval(0.95, 11, 3250, (1000/12)**0.5)"
   ]
  },
  {
   "cell_type": "code",
   "execution_count": 29,
   "id": "9e41f76a",
   "metadata": {},
   "outputs": [],
   "source": [
    "# std/sqrt(n)\n",
    "#st.sem"
   ]
  },
  {
   "cell_type": "code",
   "execution_count": 36,
   "id": "de543cb0",
   "metadata": {},
   "outputs": [
    {
     "data": {
      "text/plain": [
       "-1.9599639845400545"
      ]
     },
     "execution_count": 36,
     "metadata": {},
     "output_type": "execute_result"
    }
   ],
   "source": [
    "st.norm.ppf(0.025)"
   ]
  },
  {
   "cell_type": "code",
   "execution_count": 43,
   "id": "312c8239",
   "metadata": {},
   "outputs": [
    {
     "data": {
      "text/plain": [
       "0.02717729173402341"
      ]
     },
     "execution_count": 43,
     "metadata": {},
     "output_type": "execute_result"
    }
   ],
   "source": [
    "st.norm.cdf(-1.924)"
   ]
  },
  {
   "cell_type": "code",
   "execution_count": 45,
   "id": "329b0c1c",
   "metadata": {},
   "outputs": [
    {
     "data": {
      "text/plain": [
       "(992.1601440618398, 1007.8398559381602)"
      ]
     },
     "execution_count": 45,
     "metadata": {},
     "output_type": "execute_result"
    }
   ],
   "source": [
    "st.norm.interval(0.95, 1000, 20/(25)**0.5)"
   ]
  },
  {
   "cell_type": "code",
   "execution_count": 46,
   "id": "899fea30",
   "metadata": {},
   "outputs": [
    {
     "data": {
      "text/plain": [
       "(58196.915710965855, 62082.48428903414)"
      ]
     },
     "execution_count": 46,
     "metadata": {},
     "output_type": "execute_result"
    }
   ],
   "source": [
    "st.t.interval(0.95, 15, 60139.7 , 3645.94/(16**0.5))"
   ]
  },
  {
   "cell_type": "code",
   "execution_count": 48,
   "id": "b309fb4e",
   "metadata": {},
   "outputs": [
    {
     "data": {
      "text/plain": [
       "(0.7993443632960485, 0.8466556367039514)"
      ]
     },
     "execution_count": 48,
     "metadata": {},
     "output_type": "execute_result"
    }
   ],
   "source": [
    "st.norm.interval(0.95, 0.823, 0.012069424178476786)"
   ]
  },
  {
   "cell_type": "code",
   "execution_count": null,
   "id": "d5113dfe",
   "metadata": {},
   "outputs": [],
   "source": []
  }
 ],
 "metadata": {
  "kernelspec": {
   "display_name": "Python 3 (ipykernel)",
   "language": "python",
   "name": "python3"
  },
  "language_info": {
   "codemirror_mode": {
    "name": "ipython",
    "version": 3
   },
   "file_extension": ".py",
   "mimetype": "text/x-python",
   "name": "python",
   "nbconvert_exporter": "python",
   "pygments_lexer": "ipython3",
   "version": "3.8.10"
  }
 },
 "nbformat": 4,
 "nbformat_minor": 5
}
