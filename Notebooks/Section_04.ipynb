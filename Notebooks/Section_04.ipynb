{
 "cells": [
  {
   "cell_type": "markdown",
   "metadata": {},
   "source": [
    "# Discrete Random Variables II "
   ]
  },
  {
   "cell_type": "markdown",
   "metadata": {},
   "source": [
    "##  Discrete Distributions\n",
    "\n",
    "* Uniform distribution\n",
    "* Binomial distribution\n",
    "* Geometric and Negative Binomial distribution\n",
    "* Hypergeometric distribution\n",
    "* Poisson distribution\n"
   ]
  },
  {
   "cell_type": "markdown",
   "metadata": {},
   "source": [
    "### Uniform Distribution\n",
    "\n",
    "$x_1, x_2, .., x_i$ has equal probability where \n",
    "\n",
    "$$f(x_i) = \\frac{1}{n}$$\n",
    "\n",
    "For $X$ **consecutive integers** $a, a+1, ...., b$ **(Arithmetic progression)** and $a \\leq b$\n",
    "\n",
    "$$f(x_i) = \\frac{1}{b-a+1}$$\n",
    "\n",
    "$$E[X]= \\frac{b+a}{2}$$\n",
    "and\n",
    "$$V(X)= \\frac{(b-a+1)^2-1}{12}$$"
   ]
  },
  {
   "cell_type": "markdown",
   "metadata": {},
   "source": [
    "### Binomial Distribution\n",
    "* n Bernoulli trials (success, fail) $n = 1, 2, ..$\n",
    "* Trials are indepenant\n",
    "* Success probability $p$ is the same for all trials and $0 < p < 1$\n",
    "* RV $X$ is number of success trials\n",
    "\n",
    "$$f(x) =\\begin{pmatrix}n \\\\ x\\end{pmatrix} p^{x} (1-p)^{n-x}$$\n",
    "\n",
    "where  $\\begin{pmatrix}n \\\\ x\\end{pmatrix}  = \\frac{n!}{x! (n-x)!}$\n",
    "\n",
    "and $x = 0, 1, 2, 3 , ..., n$\n",
    "\n",
    "$$E[X] = np $$\n",
    "$$V(X) = np(1-p)$$\n",
    "\n",
    "\n",
    "**Note:**\n",
    "\n",
    "$n$ is the number of trials and can't be 0 but $X$ is number of successful trials and it may be 0"
   ]
  },
  {
   "cell_type": "markdown",
   "metadata": {},
   "source": [
    "### Geometric Distribution\n",
    "* Series of independant Bernoulli trials (success, fail) and success probability $p \\rightarrow 0<p<1$\n",
    "* RV $X$ is number of trials untill the **first success**\n",
    "\n",
    "$$f(x) = (1-p)^{x-1} p $$\n",
    "\n",
    "and $x = 1, 2, 3, ..$\n",
    "\n",
    "$$E[X] = \\frac{1}{p}$$\n",
    "and \n",
    "$$V(X) = \\frac{1-p}{p^2}$$"
   ]
  },
  {
   "cell_type": "markdown",
   "metadata": {},
   "source": [
    "### Negative Binomial Distribution\n",
    "* Series of independant Bernoulli trials (success, fail) and success probability $p \\rightarrow 0<p<1$\n",
    "* RV $X$ is the number of trials until **$r$ successes**  \n",
    "\n",
    "$$f(x) =\\begin{pmatrix}x-1 \\\\ r-1\\end{pmatrix} (1-p)^{x-r} p^{r}$$\n",
    "\n",
    "\n",
    "Where $x = r, r+1, r+2, ...$\n",
    "\n",
    "$$E[X] = \\frac{r}{p} $$\n",
    "and \n",
    "$$V(X) = \\frac{r(1-p)}{p^2}$$\n",
    "\n",
    "**Note**\n",
    "\n",
    "In binomial X is **number of success** in n trials \n",
    "\n",
    "In negative binomial X is **number of trials** to get r success  \n",
    "\n",
    "|   |Binomial | Negative Binomial|\n",
    "|---|---|---|\n",
    "| X | # success | # trials | \n",
    "| known | n = # trials | r = # success| \n"
   ]
  },
  {
   "cell_type": "markdown",
   "metadata": {},
   "source": [
    "### Hypergeometric Distribution\n",
    "\n",
    "* Selection of sample **(without replacement)** with size $n$ from population with size $N$ where $n\\leq N$\n",
    "* Population contains K success, N-K failers where $K \\leq N$\n",
    "* RV X is number of success in the sample\n",
    "\n",
    "$$f(x) = \\frac{\\begin{pmatrix}K \\\\ x\\end{pmatrix} \\begin{pmatrix}N-K \\\\ n-x\\end{pmatrix} }{\\begin{pmatrix}N \\\\ n\\end{pmatrix} }$$\n",
    "\n",
    "Where \n",
    "\n",
    "$x = max(0, n+K-N)$ to $min(K, n)$\n",
    "\n",
    "and \n",
    "\n",
    "$$E[X] = np $$\n",
    "$$V(X) = np (1-p) (\\frac{N-n}{N-1})$$\n",
    "\n",
    "Where $p = \\frac{K}{N}$"
   ]
  },
  {
   "cell_type": "markdown",
   "metadata": {},
   "source": [
    "### Poisson distribution\n",
    "\n",
    "\n",
    "* The random variable $X$ that equals the number of counts in the interval\n",
    "\n",
    "$$f(x) = \\frac{\\lambda^x}{x!}e^{-\\lambda}$$\n",
    "\n",
    "Where \n",
    "\n",
    "$x = 0, 1, 2, ..$\n",
    "\n",
    "$\\lambda$ is the rate of occurance.\n",
    "\n",
    "and \n",
    "\n",
    "$$E[X] = \\lambda $$\n",
    "$$V[X] = \\lambda $$"
   ]
  },
  {
   "cell_type": "markdown",
   "metadata": {},
   "source": []
  },
  {
   "cell_type": "markdown",
   "metadata": {},
   "source": []
  },
  {
   "cell_type": "markdown",
   "metadata": {},
   "source": []
  },
  {
   "cell_type": "markdown",
   "metadata": {},
   "source": [
    "## Summary "
   ]
  },
  {
   "cell_type": "markdown",
   "metadata": {},
   "source": [
    "|X|f(x)|E[X]|V(X)| Notes|\n",
    "|--|-----|--|--|--|\n",
    "|Uniform(consecutive values of $x$)| $$\\frac{1}{b-a+1}$$ | $$\\frac{b+a}{2}$$|  $$\\frac{(b-a+1)^2-1}{12}$$| |\n",
    "|Binomial (# success trials)|$$\\begin{pmatrix}n \\\\ x\\end{pmatrix} p^{x} (1-p)^{n-x}$$ | $$np$$ | $$np(1-p)$$| $p$ is success prob| \n",
    "|Geometric (# trials until 1st success)|$$(1-p)^{x-1} p$$ | $$\\frac{1}{p}$$ | $$ \\frac{1-p}{p^2}$$| $p$ is success prob| \n",
    "|Negative Binomial (# trials until r success)|$$\\begin{pmatrix}x-1 \\\\ r-1\\end{pmatrix} (1-p)^{x-r} p^{r}$$ | $$\\frac{r}{p} $$ | $$ \\frac{r(1-p)}{p^2}$$|  $p$ is success prob| \n",
    "|Hypergeometric (# success in sample of n)|$$ \\frac{\\begin{pmatrix}K \\\\ x\\end{pmatrix} \\begin{pmatrix}N-K \\\\ n-x\\end{pmatrix} }{\\begin{pmatrix}N \\\\ n\\end{pmatrix} }$$ | $$np $$ | $$ np (1-p) (\\frac{N-n}{N-1})$$| |\n",
    "|Poisson distribution (# counts in interval)| $$f(x) = \\frac{\\lambda^x}{x!}e^{-\\lambda}$$ |$$E[x] = \\lambda $$ |$$V[x] = \\lambda $$| | \n",
    "\n"
   ]
  },
  {
   "cell_type": "markdown",
   "metadata": {},
   "source": [
    "## Exercises "
   ]
  },
  {
   "cell_type": "markdown",
   "metadata": {},
   "source": [
    "### Example 1\n",
    "\n",
    "Thickness measurements of a coating process are\n",
    "made to the nearest hundredth of a millimeter. The thickness\n",
    "measurements are uniformly distributed with values 0.15, 0.16,\n",
    "0.17, 0.18, and 0.19. Determine the mean and variance of the\n",
    "coating thickness for this process"
   ]
  },
  {
   "cell_type": "markdown",
   "metadata": {},
   "source": [
    "### Example 2\n",
    "\n",
    "Assume that the wavelengths of photosynthetically\n",
    "active radiations (PAR) are uniformly distributed at integer\n",
    "nanometers in the red spectrum from 675 to 700 nm.\n",
    "\n",
    "(a) What are the mean and variance of the wavelength distribution for this radiation?\n",
    "\n",
    "(b) If the wavelengths are uniformly distributed at integer\n",
    "nanometers from 75 to 100 nanometers, how do the mean\n",
    "and variance of the wavelength distribution compare to the\n",
    "previous part? Explain."
   ]
  },
  {
   "cell_type": "markdown",
   "metadata": {},
   "source": [
    "### Example 3\n",
    "\n",
    "Let X be a binomial random variable with p = 0.1 .\n",
    "and n = 10. Calculate the following probabilities from the binomial probability mass function and from the binomial table in\n",
    "Appendix A and compare results.\n",
    "\n",
    "(a) $P(X ≤ 2 )$\n",
    "\n",
    "(b) $P(X > 8)$\n",
    "\n",
    "(c) $P(X = 4)$  \n",
    "\n",
    "(d) $P(5 ≤ X ≤ 7)$\n"
   ]
  },
  {
   "cell_type": "markdown",
   "metadata": {},
   "source": [
    "### Example 4\n",
    "\n",
    "Heart failure is due to either natural occurrences\n",
    "(87%) or outside factors (13%). Outside factors are related to\n",
    "induced substances or foreign objects. Natural occurrences are\n",
    "caused by arterial blockage, disease, and infection. Suppose\n",
    "that 20 patients will visit an emergency room with heart failure. Assume that causes of heart failure for the individuals are\n",
    "independent.\n",
    "\n",
    "(a) What is the probability that three individuals have conditions caused by outside factors?\n",
    "\n",
    "(b) What is the probability that three or more individuals have\n",
    "conditions caused by outside factors?\n",
    "\n",
    "(c) What are the mean and standard deviation of the number\n",
    "of individuals with conditions caused by outside factors?"
   ]
  },
  {
   "cell_type": "markdown",
   "metadata": {},
   "source": [
    "### Example 5 \n",
    "\n",
    "The probability that a visitor to a Web site provides\n",
    "contact data for additional information is 0.01. Assume that\n",
    "1000 visitors to the site behave independently. Determine the\n",
    "following probabilities:\n",
    "\n",
    "(a) No visitor provides contact data.\n",
    "\n",
    "(b) Exactly 10 visitors provide contact data.\n",
    "\n",
    "(c) More than 3 visitors provide contact data."
   ]
  },
  {
   "cell_type": "markdown",
   "metadata": {},
   "source": [
    "### Example 6 \n",
    "\n",
    "Suppose that the random variable X has a geometric distribution with a mean of 2.5. Determine the following probabilities:\n",
    "\n",
    "(a) $P(X = 1)$\n",
    "\n",
    "(b) $P(X = 4)$\n",
    "\n",
    "(c) $P(X = 5)$\n",
    "\n",
    "(d) $P(X ≤ 3)$ \n",
    "\n",
    "(e) $P(X > 3)$"
   ]
  },
  {
   "cell_type": "markdown",
   "metadata": {},
   "source": [
    "### Example 7 \n",
    "\n",
    "Suppose that X is a negative binomial random\n",
    "variable with p = 0.2 and r = 4 Determine the following:\n",
    "\n",
    "(a) $E(X)$ \n",
    "\n",
    "(b) $P(X = 20)$\n",
    "\n",
    "(c) $P(X = 19)$ \n",
    "\n",
    "(d) $P(X = 21)$\n",
    "\n",
    "(e) The most likely value for $X$"
   ]
  },
  {
   "cell_type": "markdown",
   "metadata": {},
   "source": [
    "### Example 8 \n",
    "\n",
    "Heart failure is due to either natural occurrences\n",
    "(87%) or outside factors (13%). Outside factors are related to\n",
    "induced substances or foreign objects. Natural occurrences are\n",
    "caused by arterial blockage, disease, and infection. Assume\n",
    "that causes of heart failure for the individuals are independent.\n",
    "\n",
    "(a) What is the probability that the first patient with heart failure who enters the emergency room has the condition due\n",
    "to outside factors?\n",
    "\n",
    "(b) What is the probability that the third patient with heart failure who enters the emergency room is the first one due to\n",
    "outside factors?\n",
    "\n",
    "(c) What is the mean number of heart failure patients with the condition due to natural causes who enter the emergency room\n",
    "before the first patient with heart failure from outside factors?"
   ]
  },
  {
   "cell_type": "markdown",
   "metadata": {},
   "source": [
    "### Example 9 \n",
    "\n",
    "A fault-tolerant system that processes transactions for\n",
    "a financial services firm uses three separate computers. If the\n",
    "operating computer fails, one of the two spares can be immediately switched online. After the second computer fails, the last\n",
    "computer can be immediately switched online. Assume that the\n",
    "probability of a failure during any transaction is $10^{-8}$ and that\n",
    "the transactions can be considered to be independent events.\n",
    "\n",
    "(a) What is the mean number of transactions before all computers have failed?\n",
    "\n",
    "(b) What is the variance of the number of transactions before\n",
    "all computers have failed?\n"
   ]
  },
  {
   "cell_type": "markdown",
   "metadata": {},
   "source": [
    "### Example 10\n",
    "\n",
    "A research study uses 800 men under the age of 55.\n",
    "Suppose that 30% carry a marker on the male chromosome that\n",
    "indicates an increased risk for high blood pressure.\n",
    "\n",
    "(a) If 10 men are selected randomly and tested for the marker,\n",
    "what is the probability that exactly 1 man has the marker?\n",
    "\n",
    "(b) If 10 men are selected randomly and tested for the marker,\n",
    "what is the probability that more than 1 has the marker?"
   ]
  },
  {
   "cell_type": "markdown",
   "metadata": {},
   "source": [
    "### Example 11\n",
    "\n",
    "Suppose that lesions are present at 5 sites among 50 in a\n",
    "patient. A biopsy selects 8 sites randomly (without replacement).\n",
    "\n",
    "(a) What is the probability that lesions are present in at least\n",
    "one selected site?\n",
    "\n",
    "(b) What is the probability that lesions are present in two or\n",
    "more selected sites?\n"
   ]
  },
  {
   "cell_type": "markdown",
   "metadata": {},
   "source": [
    "### Example 12 \n",
    "\n",
    "Suppose that the number of customers that enters a bank in an hour is a Poisson random variable and suppose that $P(X = 0) = 0.05$ determine the mean and the variance of $X$"
   ]
  }
 ],
 "metadata": {
  "kernelspec": {
   "display_name": "Python 3 (ipykernel)",
   "language": "python",
   "name": "python3"
  },
  "language_info": {
   "codemirror_mode": {
    "name": "ipython",
    "version": 3
   },
   "file_extension": ".py",
   "mimetype": "text/x-python",
   "name": "python",
   "nbconvert_exporter": "python",
   "pygments_lexer": "ipython3",
   "version": "3.8.10"
  }
 },
 "nbformat": 4,
 "nbformat_minor": 2
}
