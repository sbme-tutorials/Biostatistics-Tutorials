{
 "cells": [
  {
   "cell_type": "markdown",
   "id": "61b27b90",
   "metadata": {},
   "source": [
    "# Random sampling and Sampling distributions"
   ]
  },
  {
   "cell_type": "markdown",
   "id": "e895b0eb",
   "metadata": {},
   "source": [
    "## Random sampling \n",
    "\n",
    "* Random sampling is selection of $n$ samples from a population of size $N$\n",
    "* The population has its own parameters like $\\mu$, $\\sigma$. \n",
    "* Statistics of the sample\n",
    "    * Sample mean $\\bar{x}$ $$\\bar{x} = \\frac{\\sum x_i}{n} $$\n",
    "    * Sample Variance $s^2$ \n",
    "    \n",
    "        * Formula $$s^2 = \\frac{1}{n-1} \\sum(x_i-\\bar{x})^2$$ \n",
    "        * Coputationally efficient formula $$s^2 = \\frac{1}{n-1} \\Big (\\sum x_i^2- \\frac{\\big(\\sum x_i\\big)^2}{n}\\Big)$$\n",
    "    \n",
    "    * Sample median \n",
    "        1. Sort the values \n",
    "        2. Select the middle value (if n is even median is the average of the two middle values)\n",
    "    * Sample Range $$max - min$$\n",
    "    * Sample mode: The most frequent value(s)\n",
    "* How to use calculator to get the mean and std deviation [here](https://www.youtube.com/watch?v=AD_e7qW_Qq0)"
   ]
  },
  {
   "cell_type": "code",
   "execution_count": 18,
   "id": "f364f78f",
   "metadata": {},
   "outputs": [
    {
     "data": {
      "text/html": [
       "\n",
       "        <iframe\n",
       "            width=\"560\"\n",
       "            height=\"315\"\n",
       "            src=\"https://www.youtube.com/embed/AD_e7qW_Qq0\"\n",
       "            frameborder=\"0\"\n",
       "            allowfullscreen\n",
       "            \n",
       "        ></iframe>\n",
       "        "
      ],
      "text/plain": [
       "<IPython.lib.display.IFrame at 0x7fd44d1f78b0>"
      ]
     },
     "execution_count": 18,
     "metadata": {},
     "output_type": "execute_result"
    }
   ],
   "source": [
    "from IPython.display import IFrame\n",
    "IFrame(width=560, height=315, src=\"https://www.youtube.com/embed/AD_e7qW_Qq0\")"
   ]
  },
  {
   "cell_type": "markdown",
   "id": "ede93e9d",
   "metadata": {},
   "source": [
    "### Examples"
   ]
  },
  {
   "cell_type": "markdown",
   "id": "36e43b5a",
   "metadata": {},
   "source": [
    "#### Example 1\n",
    "\n",
    "The January 1990 issue of Arizona Trend contains a\n",
    "supplement describing the 12 “best” golf courses in the state.\n",
    "The yardages (lengths) of these courses are as follows: 6981,\n",
    "7099, 6930, 6992, 7518, 7100, 6935, 7518, 7013, 6800, 7041,\n",
    "and 6890. Calculate the sample mean and sample standard\n",
    "deviation, sample median, sample range and the mode. \n",
    "Construct a dot diagram of the data."
   ]
  },
  {
   "cell_type": "markdown",
   "id": "a74160d7",
   "metadata": {},
   "source": [
    "#### Example 2\n",
    "\n",
    "An article in the Journal of Structural Engineering\n",
    "(Vol. 115, 1989) describes an experiment to test the yield strength\n",
    "of circular tubes with caps welded to the ends. The first yields (in\n",
    "kN) are 96, 96, 102, 102, 102, 104, 104, 108, 126, 126, 128, 128,\n",
    "140, 156, 160, 160, 164, and 170. Calculate the sample mean and sample standard\n",
    "deviation, sample median, sample range and the mode. \n",
    "Construct a dot diagram of the data."
   ]
  },
  {
   "cell_type": "markdown",
   "id": "2b493c09",
   "metadata": {},
   "source": [
    "## Sampling distributions\n",
    "\n",
    "### Distribution of sample mean $\\bar{x}$\n",
    "\n",
    "* While repeating the sampling process the sample mean $\\bar{x}$ changes \n",
    "* So It's a random variable and has its own distribution\n",
    "* **Central limit theory**\n",
    "\n",
    "    It states that the distribution of the sample mean $\\bar{x}$ is a normal distribution with mean (mean of sample means) \n",
    "    $$\\mu_{\\bar{x}} = \\mu$$ \n",
    "    and std deviation $$\\sigma_{\\bar{x}} = \\frac{\\sigma}{\\sqrt{n}}$$ \n",
    "    \n",
    "    Where $\\mu$ and $\\sigma$ are the parameters of the population.\n",
    "    \n",
    "    We can transform it to std normal distribution: \n",
    "    $$Z = \\frac{\\bar{x} - \\mu}{\\frac{\\sigma}{\\sqrt{n}}}$$\n",
    "    \n",
    "\n",
    "* A good visualization of central limit theory [here](https://seeing-theory.brown.edu/probability-distributions/index.html)."
   ]
  },
  {
   "cell_type": "code",
   "execution_count": 35,
   "id": "4029fb83",
   "metadata": {},
   "outputs": [
    {
     "data": {
      "text/html": [
       "\n",
       "        <iframe\n",
       "            width=\"1024\"\n",
       "            height=\"512\"\n",
       "            src=\"https://seeing-theory.brown.edu/probability-distributions/index.html\"\n",
       "            frameborder=\"0\"\n",
       "            allowfullscreen\n",
       "            \n",
       "        ></iframe>\n",
       "        "
      ],
      "text/plain": [
       "<IPython.lib.display.IFrame at 0x7fd44c164d30>"
      ]
     },
     "execution_count": 35,
     "metadata": {},
     "output_type": "execute_result"
    }
   ],
   "source": [
    "IFrame(width=1024, height=512, src=\"https://seeing-theory.brown.edu/probability-distributions/index.html\")"
   ]
  },
  {
   "cell_type": "markdown",
   "id": "bec930fd",
   "metadata": {},
   "source": [
    "### Examples"
   ]
  },
  {
   "cell_type": "markdown",
   "id": "3ca08200",
   "metadata": {},
   "source": [
    "#### Example 3\n",
    "\n",
    "A synthetic fiber used in manufacturing carpet has\n",
    "tensile strength that is normally distributed with mean 75.5 psi\n",
    "and standard deviation 3.5 psi. Find the probability that a random sample of n = 49 fiber specimens will have sample mean\n",
    "tensile strength that exceeds 75.75 psi."
   ]
  },
  {
   "cell_type": "markdown",
   "id": "327d0cef",
   "metadata": {},
   "source": [
    "#### Example 4\n",
    "\n",
    "The compressive strength of concrete is normally distributed with $\\mu=2500$ psi and $\\sigma = 50$ psi. Find the probability that a random sample of $n = 5$ specimens will have a sample\n",
    "mean diameter that falls in the interval from 2499 psi to 2510 psi."
   ]
  },
  {
   "cell_type": "markdown",
   "id": "a7134c0d",
   "metadata": {},
   "source": [
    "# Confidence Intervals"
   ]
  },
  {
   "cell_type": "markdown",
   "id": "d448f304",
   "metadata": {},
   "source": [
    "In the previous part we learned how to guess the probability of getting a specific value of the sample mean $\\bar{x}$ given the population mean $\\mu$, std deviation $\\sigma$ and using the central limit theory. \n",
    "\n",
    "In the real life, the parameters of the population ($\\mu$, $\\sigma$) are usually unkonwn because it's almost impossible to have all observations of the population to calculate the parameters. So it makes sense to have a sample and use the sample statistics to guess the population parameters with a degree of confidence (probability).\n",
    "\n",
    "According to the central limit theory: \n",
    "\n",
    "$$P\\Big(-Z_{\\frac{\\alpha}{2}}<\\frac{\\bar{x}-\\mu}{\\frac{\\sigma}{\\sqrt{n}}} < Z_{\\frac{\\alpha}{2}}\\Big) = 1-\\alpha$$\n",
    "\n",
    "Where $1-\\alpha$ is the confidence interval $CI$\n",
    "\n",
    "Rearranging the equation we have \n",
    "\n",
    "$$\\bar{x}-Z_{\\frac{\\alpha}{2}} \\times \\frac{\\sigma}{\\sqrt{n}} < \\mu  < \\bar{x}+ Z_{\\frac{\\alpha}{2}}  \\times   \\frac{\\sigma}{\\sqrt{n}} $$\n",
    "\n",
    "In other words we can guess the range of population mean $\\mu$ from the sample mean $\\bar{x}$ and be confident with a specific probability value $CI$\n",
    "\n",
    "$$\\mu = \\bar{x} \\pm E$$\n",
    "\n",
    "Where $E$ is the estimation error and \n",
    "\n",
    "$$E = Z_{\\frac{\\alpha}{2}} \\times \\frac{\\sigma}{\\sqrt{n}}$$\n",
    "\n",
    "The interval length/range $(max-min)$ $\\rightarrow$ $2E$\n",
    "\n",
    "We can also get the sample size using \n",
    "\n",
    "$$n = \\Big(\\frac{Z_{\\frac{\\alpha}{2}} \\times \\sigma}{E}\\Big)^2$$\n",
    "\n",
    "### Student T table\n",
    "\n",
    "* It is an approximation of the std normal distribution table\n",
    "* We use it when the sample size $n$ is very low and/or the $\\sigma$ of population is unkonwn\n",
    "* The value $t_{\\frac{\\alpha}{2}, n-1}$ is an approximation of $Z_{\\frac{\\alpha}{2}}$\n",
    "* Therefore the range of $\\mu$ is \n",
    "\n",
    "$$\\mu = \\bar{x} \\pm \\Big( t_{\\frac{\\alpha}{2}, n-1} \\times \\frac{s}{\\sqrt{n}}\\Big)$$\n",
    "\n",
    "where $s$ is the std deviation of the sample\n",
    "\n",
    "* A good visualization of the difference between t and Z distributions [here](https://rpsychologist.com/d3/tdist/)"
   ]
  },
  {
   "cell_type": "code",
   "execution_count": 34,
   "id": "1dd25cc2",
   "metadata": {},
   "outputs": [
    {
     "data": {
      "text/html": [
       "\n",
       "        <iframe\n",
       "            width=\"1024\"\n",
       "            height=\"512\"\n",
       "            src=\"https://rpsychologist.com/d3/tdist/\"\n",
       "            frameborder=\"0\"\n",
       "            allowfullscreen\n",
       "            \n",
       "        ></iframe>\n",
       "        "
      ],
      "text/plain": [
       "<IPython.lib.display.IFrame at 0x7fd44c164e80>"
      ]
     },
     "execution_count": 34,
     "metadata": {},
     "output_type": "execute_result"
    }
   ],
   "source": [
    "IFrame(width=1024, height=512, src=\"https://rpsychologist.com/d3/tdist/\")"
   ]
  },
  {
   "cell_type": "markdown",
   "id": "1a5af3cd",
   "metadata": {},
   "source": [
    "### A large sample confidence interval for a population proportion \n",
    "\n",
    "* Approximation of a binomial RV to a normal distribution \n",
    "\n",
    "$$Z = \\frac{x-np}{\\sqrt{np(1-p)}}$$\n",
    "\n",
    "* The sample proportion $\\hat{P} = \\frac{x}{n}$\n",
    "* The interval of the population proportion $P$ with a confidence interval $CI = 1-\\alpha$ : \n",
    "\n",
    "$$\\hat{P}-Z_{\\frac{\\alpha}{2}} \\times \\sqrt{\\frac{\\hat{P}(1-\\hat{P})}{n}} < P  < \\hat{P}+Z_{\\frac{\\alpha}{2}} \\times \\sqrt{\\frac{\\hat{P}(1-\\hat{P})}{n}}$$\n",
    "\n",
    "In other words \n",
    "\n",
    "$$P = \\hat{P} \\pm E$$ \n",
    "\n",
    "and \n",
    "\n",
    "$$E = Z_{\\frac{\\alpha}{2}} \\times \\sqrt{\\frac{\\hat{P}(1-\\hat{P})}{n}}$$\n",
    "\n",
    "\n",
    "We can also get the sample size using \n",
    "\n",
    "$$n = \\Big(\\frac{Z_{\\frac{\\alpha}{2}}}{E}\\Big)^2 \\times  \\hat{P}(1-\\hat{P})$$\n",
    "\n",
    "Note:\n",
    "\n",
    "We only use $Z$ table here. "
   ]
  },
  {
   "cell_type": "markdown",
   "id": "70fb9fcc",
   "metadata": {},
   "source": [
    "### Examples"
   ]
  },
  {
   "cell_type": "markdown",
   "id": "eecffc8f",
   "metadata": {},
   "source": [
    "#### Example 5\n",
    "A civil engineer is analyzing the compressive\n",
    "strength of concrete. Compressive strength is normally distributed with $\\sigma^2 = 1000(psi)^2$ . A random sample of 12 specimens\n",
    "has a mean compressive strength of x = 3250 psi.\n",
    "\n",
    "(a) Construct a 95% confidence interval on mean\n",
    "compressive strength.\n",
    "\n",
    "(b) Construct a 99% confidence interval on mean compressive strength. Compare the width of this confidence interval with the width of the one found in part (a)."
   ]
  },
  {
   "cell_type": "markdown",
   "id": "1c80fa3b",
   "metadata": {},
   "source": [
    "#### Example 6\n",
    "\n",
    "Dairy cows at large commercial farms often receive\n",
    "injections of bST (Bovine Somatotropin), a hormone used to\n",
    "spur milk production. Bauman et al. (Journal of Dairy Science,\n",
    "1989) reported that 12 cows given bST produced an average of\n",
    "28.0 kg/d of milk. Assume that the standard deviation of milk\n",
    "production is 2.25 kg/d.\n",
    "\n",
    "(a) Find a 99% confidence interval for the true mean milk\n",
    "production.\n",
    "\n",
    "(b) If the farms want the confidence interval to be no wider than\n",
    "±1.25 kg/d, what level of confidence would they need to use?"
   ]
  },
  {
   "cell_type": "markdown",
   "id": "b962a521",
   "metadata": {},
   "source": [
    "#### Example 7\n",
    "\n",
    "A confidence interval estimate is desired for the gain\n",
    "in a circuit on a semiconductor device. Assume that gain is normally distributed with standard deviation $\\sigma = 20$.\n",
    "\n",
    "(a) Find a 95% CI for m when n = 10 and $\\bar{x} = 1000$ .\n",
    "\n",
    "(b) Find a 95% CI for m when n = 25 and $\\bar{x} = 1000$ .\n",
    "\n",
    "(c) How does the length of the CIs computed change with the\n",
    "changes in sample size?\n",
    "\n",
    "(d) How large must n be if the length of the 95% CI is to be 40?"
   ]
  },
  {
   "cell_type": "markdown",
   "id": "cfd9f352",
   "metadata": {},
   "source": [
    "#### Example 8\n",
    "\n",
    "A research engineer for a tire manufacturer is investigating tire life for a new rubber compound and has built 16 tires and tested them to end-of-life in a road test. The sample mean and\n",
    "standard deviation are 60139.7 and 3645.94 kilometers. Find a\n",
    "95% confidence interval on mean tire life."
   ]
  },
  {
   "cell_type": "markdown",
   "id": "a2b001bf",
   "metadata": {},
   "source": [
    "#### Example 9\n",
    "\n",
    "The fraction of defective integrated circuits produced\n",
    "in a photolithography process is being studied. A random sample\n",
    "of 300 circuits is tested, revealing 13 defectives. Calculate a 95% CI on the fraction of defective\n",
    "circuits produced by this particular tool."
   ]
  },
  {
   "cell_type": "markdown",
   "id": "28ed508d",
   "metadata": {},
   "source": [
    "#### Example 10\n",
    "\n",
    "Of 1000 randomly selected cases of lung cancer, 823 resulted in death within 10 years.\n",
    "\n",
    "(a) Calculate a 95% confidence interval on the death rate from lung cancer.\n",
    "\n",
    "(b) Using the point estimate of p obtained from the preliminary\n",
    "sample, what sample size is needed to be 95% confident that\n",
    "the error in estimating the true value of p is less than 0.03?\n"
   ]
  }
 ],
 "metadata": {
  "kernelspec": {
   "display_name": "Python 3 (ipykernel)",
   "language": "python",
   "name": "python3"
  },
  "language_info": {
   "codemirror_mode": {
    "name": "ipython",
    "version": 3
   },
   "file_extension": ".py",
   "mimetype": "text/x-python",
   "name": "python",
   "nbconvert_exporter": "python",
   "pygments_lexer": "ipython3",
   "version": "3.8.10"
  }
 },
 "nbformat": 4,
 "nbformat_minor": 5
}
