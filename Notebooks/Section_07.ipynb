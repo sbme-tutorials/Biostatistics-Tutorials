{
 "cells": [
  {
   "cell_type": "markdown",
   "id": "61b27b90",
   "metadata": {},
   "source": [
    "# Random sampling and Sampling distributions"
   ]
  },
  {
   "cell_type": "markdown",
   "id": "e895b0eb",
   "metadata": {},
   "source": [
    "## Random sampling \n",
    "\n",
    "* Random sampling is selection of $n$ samples from a population of size $N$\n",
    "* The population has its own parameters like $\\mu$, $\\sigma$. \n",
    "* Statistics of the sample\n",
    "    * Sample mean $\\bar{x}$ $$\\bar{x} = \\frac{\\sum x_i}{n} $$\n",
    "    * Sample Variance $s^2$ \n",
    "    \n",
    "        * Formula $$s^2 = \\frac{1}{n-1} \\sum(x_i-\\bar{x})^2$$ \n",
    "        * Coputationally efficient formula $$s^2 = \\frac{1}{n-1} \\Big (\\sum x_i^2- \\frac{\\big(\\sum x_i\\big)^2}{n}\\Big)$$\n",
    "    \n",
    "    * Sample median \n",
    "        1. Sort the values \n",
    "        2. Select the middle value (if n is even median is the average of the two middle values)\n",
    "    * Sample Range $$max - min$$\n",
    "    * Sample mode: The most frequent value(s)\n"
   ]
  },
  {
   "cell_type": "markdown",
   "id": "ede93e9d",
   "metadata": {},
   "source": [
    "### Examples"
   ]
  },
  {
   "cell_type": "markdown",
   "id": "36e43b5a",
   "metadata": {},
   "source": [
    "#### Example 1\n",
    "\n",
    "The January 1990 issue of Arizona Trend contains a\n",
    "supplement describing the 12 “best” golf courses in the state.\n",
    "The yardages (lengths) of these courses are as follows: 6981,\n",
    "7099, 6930, 6992, 7518, 7100, 6935, 7518, 7013, 6800, 7041,\n",
    "and 6890. Calculate the sample mean and sample standard\n",
    "deviation, sample median, sample range and the mode. \n",
    "Construct a dot diagram of the data."
   ]
  },
  {
   "cell_type": "markdown",
   "id": "efbe0507",
   "metadata": {},
   "source": [
    "**Solution**\n",
    "\n",
    "|$$x$$ | $$x-\\bar{x}$$|$$(x-\\bar{x})^2$$| \n",
    "|--|---|---|\n",
    "|6981|-87.08  |7583.51  |\n",
    "|7099|30.92  |955.84  |\n",
    "|6930|-138.08  |19067.01  |\n",
    "|6992|-76.08  |5788.67  |\n",
    "|7518|449.92  |202425.01  |\n",
    "|7100|31.92  |1018.67  |\n",
    "|6935|-133.08  |17711.17  |\n",
    "|7518|449.92  |202425.01  |\n",
    "|7013|-55.08  |3034.17  |\n",
    "|6800|-268.08  |71868.67  |\n",
    "|7041|-27.08  |733.51  |\n",
    "|6890|-178.08  |31713.67  |\n",
    "|$$\\bar{x} = \\frac{\\sum x}{n} = 7068.08$$| |$$s = \\sqrt{\\frac{\\sum(x-\\bar{x})^2}{n-1}} = 216.86$$|\n",
    "\n",
    "So\n",
    "\n",
    "* the mean\n",
    "\n",
    "$$\\bar{x} = 7068.08$$ \n",
    "\n",
    "* std deviation\n",
    "\n",
    "$$s = 216.86$$\n",
    "\n",
    "\n",
    "* The median\n",
    "\n",
    "6800, 6890, 6930, 6935, 6981, **6992, 7013**, 7041, 7099, 7100, 7518, 7518\n",
    "\n",
    "$$median = \\frac{6992 + 7013}{2} = 7002.5$$\n",
    "\n",
    "* The range \n",
    "$$range = 7518 - 6800 = 718$$\n",
    "\n",
    "* The mode\n",
    "\n",
    "$$mode = 7518$$\n",
    "\n",
    "* The dot graph\n",
    "\n",
    "![](images/dot_graph.png)\n",
    "\n",
    "As we see, the mean is influenced by the outliers and the median is robust to outliers\n",
    "\n",
    "* How to use calculator to get the mean and std deviation [here](https://www.youtube.com/watch?v=AD_e7qW_Qq0)"
   ]
  },
  {
   "cell_type": "code",
   "execution_count": 1,
   "id": "f364f78f",
   "metadata": {},
   "outputs": [
    {
     "data": {
      "text/html": [
       "\n",
       "        <iframe\n",
       "            width=\"560\"\n",
       "            height=\"315\"\n",
       "            src=\"https://www.youtube.com/embed/AD_e7qW_Qq0\"\n",
       "            frameborder=\"0\"\n",
       "            allowfullscreen\n",
       "            \n",
       "        ></iframe>\n",
       "        "
      ],
      "text/plain": [
       "<IPython.lib.display.IFrame at 0x7ff290423190>"
      ]
     },
     "execution_count": 1,
     "metadata": {},
     "output_type": "execute_result"
    }
   ],
   "source": [
    "from IPython.display import IFrame\n",
    "IFrame(width=560, height=315, src=\"https://www.youtube.com/embed/AD_e7qW_Qq0\")"
   ]
  },
  {
   "cell_type": "markdown",
   "id": "a74160d7",
   "metadata": {},
   "source": [
    "#### Example 2\n",
    "\n",
    "An article in the Journal of Structural Engineering\n",
    "(Vol. 115, 1989) describes an experiment to test the yield strength\n",
    "of circular tubes with caps welded to the ends. The first yields (in\n",
    "kN) are 96, 96, 102, 102, 102, 104, 104, 108, 126, 126, 128, 128,\n",
    "140, 156, 160, 160, 164, and 170. Calculate the sample mean and sample standard\n",
    "deviation, sample median, sample range and the mode. \n",
    "Construct a dot diagram of the data.\n",
    "\n",
    "**Solve it yourself**"
   ]
  },
  {
   "cell_type": "markdown",
   "id": "2b493c09",
   "metadata": {},
   "source": [
    "## Sampling distributions\n",
    "\n",
    "### Distribution of sample mean $\\bar{x}$\n",
    "\n",
    "* While repeating the sampling process the sample mean $\\bar{x}$ changes \n",
    "* So It's a random variable and has its own distribution\n",
    "* **Central limit theory**\n",
    "\n",
    "    It states that the distribution of the sample mean $\\bar{x}$ is a normal distribution with mean (mean of sample means) \n",
    "    $$\\mu_{\\bar{x}} = \\mu$$ \n",
    "    and std deviation $$\\sigma_{\\bar{x}} = \\frac{\\sigma}{\\sqrt{n}}$$ \n",
    "    \n",
    "    Where $\\mu$ and $\\sigma$ are the parameters of the population.\n",
    "    \n",
    "    We can transform it to std normal distribution: \n",
    "    $$Z = \\frac{\\bar{x} - \\mu}{\\frac{\\sigma}{\\sqrt{n}}}$$\n",
    "    \n",
    "\n",
    "* A good visualization of central limit theory [here](https://seeing-theory.brown.edu/probability-distributions/index.html)."
   ]
  },
  {
   "cell_type": "code",
   "execution_count": 2,
   "id": "4029fb83",
   "metadata": {},
   "outputs": [
    {
     "data": {
      "text/html": [
       "\n",
       "        <iframe\n",
       "            width=\"1024\"\n",
       "            height=\"512\"\n",
       "            src=\"https://seeing-theory.brown.edu/probability-distributions/index.html\"\n",
       "            frameborder=\"0\"\n",
       "            allowfullscreen\n",
       "            \n",
       "        ></iframe>\n",
       "        "
      ],
      "text/plain": [
       "<IPython.lib.display.IFrame at 0x7ff290411430>"
      ]
     },
     "execution_count": 2,
     "metadata": {},
     "output_type": "execute_result"
    }
   ],
   "source": [
    "IFrame(width=1024, height=512, src=\"https://seeing-theory.brown.edu/probability-distributions/index.html\")"
   ]
  },
  {
   "cell_type": "markdown",
   "id": "bec930fd",
   "metadata": {},
   "source": [
    "### Examples"
   ]
  },
  {
   "cell_type": "markdown",
   "id": "3ca08200",
   "metadata": {},
   "source": [
    "#### Example 3\n",
    "\n",
    "A synthetic fiber used in manufacturing carpet has\n",
    "tensile strength that is normally distributed with mean 75.5 psi\n",
    "and standard deviation 3.5 psi. Find the probability that a random sample of n = 49 fiber specimens will have sample mean\n",
    "tensile strength that exceeds 75.75 psi."
   ]
  },
  {
   "cell_type": "markdown",
   "id": "14c056e6",
   "metadata": {},
   "source": [
    "**Solution**\n",
    "\n",
    "Given $n=49$, $\\mu = 75.5$, and $\\sigma = 3.5$\n",
    "\n",
    "required is $P(\\bar{x} > 75.75)$\n",
    "\n",
    "According to central limit theory $\\bar{x}$ is a normal distribution $N(\\mu, \\frac{\\sigma}{\\sqrt{n}})$\n",
    "\n",
    "$P(\\bar{x} > 75.75) \\rightarrow P(Z > \\frac{75.75 - \\mu}{\\frac{\\sigma}{\\sqrt{n}}}) $\n",
    "\n",
    "$P(Z > \\frac{75.75 - 75.5}{\\frac{3.5}{\\sqrt{49}}}) =  P(Z > 0.5) = P(Z < -0.5) = 0.3085$ \n",
    "\n",
    "from $Z$ table"
   ]
  },
  {
   "cell_type": "markdown",
   "id": "327d0cef",
   "metadata": {},
   "source": [
    "#### Example 4\n",
    "\n",
    "The compressive strength of concrete is normally distributed with $\\mu=2500$ psi and $\\sigma = 50$ psi. Find the probability that a random sample of $n = 5$ specimens will have a sample\n",
    "mean diameter that falls in the interval from 2499 psi to 2510 psi."
   ]
  },
  {
   "cell_type": "markdown",
   "id": "c9ee0853",
   "metadata": {},
   "source": [
    "**Solution**\n",
    "\n",
    "Given $n=5$, $\\mu = 2500$, and $\\sigma = 50$\n",
    "\n",
    "required is $P(2499 < \\bar{x} < 2510)$\n",
    "\n",
    "According to central limit theory $\\bar{x}$ is a normal distribution $N(\\mu, \\frac{\\sigma}{\\sqrt{n}})$\n",
    "\n",
    "$P(2499 < \\bar{x} < 2510)$\n",
    "\n",
    "$P(-0.0447 < Z  < 0.447) = 0.672 - 0.482  = 0.19$\n",
    "\n",
    "from $Z$ table"
   ]
  },
  {
   "cell_type": "markdown",
   "id": "4d1b1248",
   "metadata": {},
   "source": [
    "### Python helper function"
   ]
  },
  {
   "cell_type": "code",
   "execution_count": 7,
   "id": "ecf1a1ab",
   "metadata": {},
   "outputs": [
    {
     "name": "stdout",
     "output_type": "stream",
     "text": [
      "p = 0.482\n",
      "z = -0.045\n"
     ]
    }
   ],
   "source": [
    "# To get the values from z table \n",
    "import scipy.stats as st\n",
    "\n",
    "# 1. Given z we can get the probability using st.norm.cdf(z)\n",
    "# Example\n",
    "z = -0.045\n",
    "p = st.norm.cdf(z)\n",
    "print(\"p = %.3f\"%p)\n",
    "\n",
    "# 2. Given p we can get the z value using st.norm.ppf(p)\n",
    "p = 0.482\n",
    "z = st.norm.ppf(p)\n",
    "print(\"z = %.3f\"%z)"
   ]
  },
  {
   "cell_type": "markdown",
   "id": "a7134c0d",
   "metadata": {},
   "source": [
    "# Confidence Intervals"
   ]
  },
  {
   "cell_type": "markdown",
   "id": "d448f304",
   "metadata": {},
   "source": [
    "In the previous part we learned how to guess the probability of getting a specific value of the sample mean $\\bar{x}$ given the population mean $\\mu$, std deviation $\\sigma$ and using the central limit theory. \n",
    "\n",
    "In the real life, the parameters of the population ($\\mu$, $\\sigma$) are usually unkonwn because it's almost impossible to have all observations of the population to calculate the parameters. So it makes sense to have a sample and use the sample statistics to guess the population parameters with a degree of confidence (probability).\n",
    "\n",
    "According to the central limit theory: \n",
    "\n",
    "$$P\\Big(-Z_{\\frac{\\alpha}{2}}<\\frac{\\bar{x}-\\mu}{\\frac{\\sigma}{\\sqrt{n}}} < Z_{\\frac{\\alpha}{2}}\\Big) = 1-\\alpha$$\n",
    "\n",
    "Where $1-\\alpha$ is the confidence interval $CI$\n",
    "\n",
    "Rearranging the equation we have \n",
    "\n",
    "$$\\bar{x}-Z_{\\frac{\\alpha}{2}} \\times \\frac{\\sigma}{\\sqrt{n}} < \\mu  < \\bar{x}+ Z_{\\frac{\\alpha}{2}}  \\times   \\frac{\\sigma}{\\sqrt{n}} $$\n",
    "\n",
    "In other words we can guess the range of population mean $\\mu$ from the sample mean $\\bar{x}$ and be confident with a specific probability value $CI$\n",
    "\n",
    "$$\\mu = \\bar{x} \\pm E$$\n",
    "\n",
    "Where $E$ is the estimation error and \n",
    "\n",
    "$$E = Z_{\\frac{\\alpha}{2}} \\times \\frac{\\sigma}{\\sqrt{n}}$$\n",
    "\n",
    "The interval length/range $(max-min)$ $\\rightarrow$ $2E$\n",
    "\n",
    "We can also get the sample size using \n",
    "\n",
    "$$n = \\Big(\\frac{Z_{\\frac{\\alpha}{2}} \\times \\sigma}{E}\\Big)^2$$\n",
    "\n",
    "### Student T table\n",
    "\n",
    "* It is an approximation of the std normal distribution table\n",
    "* We use it when the sample size $n$ is very low and/or the $\\sigma$ of population is unkonwn\n",
    "* The value $t_{\\frac{\\alpha}{2}, n-1}$ is an approximation of $Z_{\\frac{\\alpha}{2}}$\n",
    "* Therefore the range of $\\mu$ is \n",
    "\n",
    "$$\\mu = \\bar{x} \\pm \\Big( t_{\\frac{\\alpha}{2}, n-1} \\times \\frac{s}{\\sqrt{n}}\\Big)$$\n",
    "\n",
    "where $s$ is the std deviation of the sample\n",
    "\n",
    "* A good visualization of the difference between t and Z distributions [here](https://rpsychologist.com/d3/tdist/)"
   ]
  },
  {
   "cell_type": "code",
   "execution_count": 4,
   "id": "1dd25cc2",
   "metadata": {},
   "outputs": [
    {
     "data": {
      "text/html": [
       "\n",
       "        <iframe\n",
       "            width=\"1024\"\n",
       "            height=\"512\"\n",
       "            src=\"https://rpsychologist.com/d3/tdist/\"\n",
       "            frameborder=\"0\"\n",
       "            allowfullscreen\n",
       "            \n",
       "        ></iframe>\n",
       "        "
      ],
      "text/plain": [
       "<IPython.lib.display.IFrame at 0x7ff290423880>"
      ]
     },
     "execution_count": 4,
     "metadata": {},
     "output_type": "execute_result"
    }
   ],
   "source": [
    "IFrame(width=1024, height=512, src=\"https://rpsychologist.com/d3/tdist/\")"
   ]
  },
  {
   "cell_type": "markdown",
   "id": "1a5af3cd",
   "metadata": {},
   "source": [
    "### A large sample confidence interval for a population proportion \n",
    "\n",
    "* Approximation of a binomial RV to a normal distribution \n",
    "\n",
    "$$Z = \\frac{x-np}{\\sqrt{np(1-p)}}$$\n",
    "\n",
    "* The sample proportion $\\hat{P} = \\frac{x}{n}$\n",
    "* The interval of the population proportion $P$ with a confidence interval $CI = 1-\\alpha$ : \n",
    "\n",
    "$$\\hat{P}-Z_{\\frac{\\alpha}{2}} \\times \\sqrt{\\frac{\\hat{P}(1-\\hat{P})}{n}} < P  < \\hat{P}+Z_{\\frac{\\alpha}{2}} \\times \\sqrt{\\frac{\\hat{P}(1-\\hat{P})}{n}}$$\n",
    "\n",
    "In other words \n",
    "\n",
    "$$P = \\hat{P} \\pm E$$ \n",
    "\n",
    "and \n",
    "\n",
    "$$E = Z_{\\frac{\\alpha}{2}} \\times \\sqrt{\\frac{\\hat{P}(1-\\hat{P})}{n}}$$\n",
    "\n",
    "\n",
    "We can also get the sample size using \n",
    "\n",
    "$$n = \\Big(\\frac{Z_{\\frac{\\alpha}{2}}}{E}\\Big)^2 \\times  \\hat{P}(1-\\hat{P})$$\n",
    "\n",
    "Note:\n",
    "\n",
    "We only use $Z$ table here. "
   ]
  },
  {
   "cell_type": "markdown",
   "id": "70fb9fcc",
   "metadata": {},
   "source": [
    "### Examples"
   ]
  },
  {
   "cell_type": "markdown",
   "id": "eecffc8f",
   "metadata": {},
   "source": [
    "#### Example 5\n",
    "A civil engineer is analyzing the compressive\n",
    "strength of concrete. Compressive strength is normally distributed with $\\sigma^2 = 1000(psi)^2$ . A random sample of 12 specimens\n",
    "has a mean compressive strength of x = 3250 psi.\n",
    "\n",
    "(a) Construct a 95% confidence interval on mean\n",
    "compressive strength.\n",
    "\n",
    "(b) Construct a 99% confidence interval on mean compressive strength. Compare the width of this confidence interval with the width of the one found in part (a)."
   ]
  },
  {
   "cell_type": "markdown",
   "id": "f6619bc4",
   "metadata": {},
   "source": [
    "**Solution**\n",
    "\n",
    "Population sigma is know (Z table) \n",
    "\n",
    "(a)\n",
    "\n",
    "given $n = 12$, $\\sigma=\\sqrt{1000}$, $\\bar{x} = 3250$, $CI = 0.95$ so $\\alpha=0.05$ and $\\frac{\\alpha}{2} = 0.025$\n",
    "\n",
    "So \n",
    "\n",
    "$$P\\Big(-Z_{\\frac{\\alpha}{2}}<\\frac{3250-\\mu}{\\frac{\\sqrt{1000}}{\\sqrt{12}}} < Z_{\\frac{\\alpha}{2}}\\Big) = 0.95$$\n",
    "\n",
    "From $Z$ table $Z_{\\frac{\\alpha}{2}}=1.96$\n",
    "\n",
    "So: \n",
    "\n",
    "$$-1.96<\\frac{3250-\\mu}{\\frac{\\sqrt{1000}}{\\sqrt{12}}} < 1.96$$\n",
    "\n",
    "and \n",
    "\n",
    "\n",
    "$$3250-1.96\\times \\frac{\\sqrt{1000}}{\\sqrt{12}} < \\mu < 3250+1.96\\times \\frac{\\sqrt{1000}}{\\sqrt{12}} $$\n",
    "\n",
    "So \n",
    "$$3232.108 < \\mu < 3267.89$$\n",
    "\n",
    "(b)\n",
    "\n",
    "$CI = 0.99$ so $\\frac{\\alpha}{2}=0.005$ and $Z_{\\frac{\\alpha}{2}}=2.575$\n",
    "\n",
    "$$3250-2.575\\times \\frac{\\sqrt{1000}}{\\sqrt{12}} < \\mu < 3250+2.575\\times \\frac{\\sqrt{1000}}{\\sqrt{12}} $$\n",
    "\n",
    "So \n",
    "\n",
    "$$3229.9 < \\mu < 3270.09$$\n",
    "\n",
    "Width of part b is greater than part a "
   ]
  },
  {
   "cell_type": "markdown",
   "id": "1c80fa3b",
   "metadata": {},
   "source": [
    "#### Example 6\n",
    "\n",
    "Dairy cows at large commercial farms often receive\n",
    "injections of bST (Bovine Somatotropin), a hormone used to\n",
    "spur milk production. Bauman et al. (Journal of Dairy Science,\n",
    "1989) reported that 12 cows given bST produced an average of\n",
    "28.0 kg/d of milk. Assume that the standard deviation of milk\n",
    "production is 2.25 kg/d.\n",
    "\n",
    "(a) Find a 99% confidence interval for the true mean milk\n",
    "production.\n",
    "\n",
    "(b) If the farms want the confidence interval to be no wider than\n",
    "±1.25 kg/d, what level of confidence would they need to use?"
   ]
  },
  {
   "cell_type": "markdown",
   "id": "7ef3b396",
   "metadata": {},
   "source": [
    "**Solution**\n",
    "\n",
    "Population sigma is know (Z table) \n",
    "\n",
    "(a)\n",
    "\n",
    "given $n = 12$, $\\sigma=2.25$, $\\bar{x} = 28$, $CI = 0.99$ so  $\\frac{\\alpha}{2} = 0.005$ and $Z_{\\frac{\\alpha}{2}}=2.575$\n",
    "\n",
    "So \n",
    "\n",
    "$$28-2.575\\times \\frac{2.25}{\\sqrt{12}} < \\mu < 28+2.575\\times \\frac{2.25}{\\sqrt{12}} $$\n",
    "\n",
    "So \n",
    "\n",
    "$$26.33 < \\mu < 29.67$$\n",
    "\n",
    "(b)\n",
    "\n",
    "$$Z_{\\frac{\\alpha}{2}} \\times \\frac{2.25}{\\sqrt{12}} < 1.25$$\n",
    "\n",
    "and so:\n",
    "\n",
    "$$Z_{\\frac{\\alpha}{2}} < 1.25 \\times \\frac{\\sqrt{12}}{2.25}$$\n",
    "$$Z_{\\frac{\\alpha}{2}} < 1.924$$\n",
    "\n",
    "and so \n",
    "\n",
    "$$CI < P(-1.924< Z < 1.924) \\rightarrow 0.973 - 0.027 < 0.946 $$\n",
    "\n",
    "So the CI must be less than 94.6%."
   ]
  },
  {
   "cell_type": "markdown",
   "id": "b962a521",
   "metadata": {},
   "source": [
    "#### Example 7\n",
    "\n",
    "A confidence interval estimate is desired for the gain\n",
    "in a circuit on a semiconductor device. Assume that gain is normally distributed with standard deviation $\\sigma = 20$.\n",
    "\n",
    "(a) Find a 95% CI for m when n = 10 and $\\bar{x} = 1000$ .\n",
    "\n",
    "(b) Find a 95% CI for m when n = 25 and $\\bar{x} = 1000$ .\n",
    "\n",
    "(c) How does the length of the CIs computed change with the\n",
    "changes in sample size?\n",
    "\n",
    "(d) How large must n be if the length of the 95% CI is to be 40?"
   ]
  },
  {
   "cell_type": "markdown",
   "id": "cb932134",
   "metadata": {},
   "source": [
    "**Solution**\n",
    "\n",
    "Population sigma is know (Z table) \n",
    "\n",
    "(a)\n",
    "\n",
    "given $n = 10$, $\\sigma=20$, $\\bar{x} = 1000$, $CI = 0.95$ so  $\\frac{\\alpha}{2} = 0.025$ and $Z_{\\frac{\\alpha}{2}}=1.96$\n",
    "\n",
    "So \n",
    "\n",
    "\n",
    "$$987.6 < \\mu < 1012.4$$\n",
    "\n",
    "(b) $n = 25$\n",
    "\n",
    "\n",
    "\n",
    "So \n",
    "\n",
    "\n",
    "$$992.2 < \\mu < 1007.8$$\n",
    "\n",
    "(c)\n",
    "\n",
    "length of (a) = $1012.4-987.6= 24.8$\n",
    "\n",
    "length of (b) = $1007.8-992.2= 15.6$\n",
    "\n",
    "The length decreases while the sample size increases.\n",
    "\n",
    "(d)\n",
    "\n",
    "$$Length \\rightarrow 2\\times1.96 \\times \\frac{20}{\\sqrt{n}} < 40$$\n",
    "\n",
    "So \n",
    "\n",
    "$n = 3.84$ or $n = 4$ "
   ]
  },
  {
   "cell_type": "markdown",
   "id": "cfd9f352",
   "metadata": {},
   "source": [
    "#### Example 8\n",
    "\n",
    "A research engineer for a tire manufacturer is investigating tire life for a new rubber compound and has built 16 tires and tested them to end-of-life in a road test. The sample mean and\n",
    "standard deviation are 60139.7 and 3645.94 kilometers. Find a\n",
    "95% confidence interval on mean tire life."
   ]
  },
  {
   "cell_type": "markdown",
   "id": "1389a9a2",
   "metadata": {},
   "source": [
    "**Solution**\n",
    "\n",
    "Population sigma unkown (t-table)\n",
    "\n",
    "Given $n = 16$, $\\bar{x} = 60139.7$, $s = 3645.94$ and $CI = 0.95$\n",
    "\n",
    "from t table $t_{\\frac{\\alpha}{2}, n-1} \\rightarrow t_{0.025, 15} = 2.131$\n",
    "\n",
    "$$ \\bar{x} - \\Big( t_{\\frac{\\alpha}{2}, n-1} \\times \\frac{s}{\\sqrt{n}}\\Big) < \\mu < \\bar{x} + \\Big( t_{\\frac{\\alpha}{2}, n-1} \\times \\frac{s}{\\sqrt{n}}\\Big)$$\n",
    "\n",
    "$$ 60139.7 - \\Big( 2.131 \\times \\frac{3645.94}{\\sqrt{16}}\\Big) < \\mu <  60139.7 + \\Big( 2.131 \\times \\frac{3645.94}{\\sqrt{16}}\\Big)$$\n",
    "\n",
    "So\n",
    "\n",
    "$$ 58197.3 < \\mu <  62082.1$$"
   ]
  },
  {
   "cell_type": "markdown",
   "id": "a2b001bf",
   "metadata": {},
   "source": [
    "#### Example 9\n",
    "\n",
    "The fraction of defective integrated circuits produced\n",
    "in a photolithography process is being studied. A random sample\n",
    "of 300 circuits is tested, revealing 13 defectives. Calculate a 95% CI on the fraction of defective\n",
    "circuits produced by this particular tool."
   ]
  },
  {
   "cell_type": "markdown",
   "id": "c014eec2",
   "metadata": {},
   "source": [
    "**Solution**\n",
    "\n",
    "given $n = 300$, defectives = 13,$CI = 0.95$ so  $\\frac{\\alpha}{2} = 0.025$ and $Z_{\\frac{\\alpha}{2}}=1.96$\n",
    "\n",
    "$\\hat{P} = \\frac{13}{300}$\n",
    "\n",
    "The proportion in the population is \n",
    "\n",
    "$$\\hat{P}-Z_{\\frac{\\alpha}{2}} \\times \\sqrt{\\frac{\\hat{P}(1-\\hat{P})}{n}} < P  < \\hat{P}+Z_{\\frac{\\alpha}{2}} \\times \\sqrt{\\frac{\\hat{P}(1-\\hat{P})}{n}}$$\n",
    "\n",
    "So \n",
    "\n",
    "$$\\frac{13}{300}- 1.96 \\times \\sqrt{\\frac{\\frac{13}{300}(1-\\frac{13}{300})}{300}} < P  < \\frac{13}{300} + 1.96 \\times \\sqrt{\\frac{\\frac{13}{300}(1-\\frac{13}{300})}{300}}$$\n",
    "\n",
    "and \n",
    "\n",
    "$$0.0203< P < 0.0664$$"
   ]
  },
  {
   "cell_type": "markdown",
   "id": "28ed508d",
   "metadata": {},
   "source": [
    "#### Example 10\n",
    "\n",
    "Of 1000 randomly selected cases of lung cancer, 823 resulted in death within 10 years.\n",
    "\n",
    "(a) Calculate a 95% confidence interval on the death rate from lung cancer.\n",
    "\n",
    "(b) Using the point estimate of p obtained from the preliminary\n",
    "sample, what sample size is needed to be 95% confident that\n",
    "the error in estimating the true value of p is less than 0.03?\n"
   ]
  },
  {
   "cell_type": "markdown",
   "id": "34221d7d",
   "metadata": {},
   "source": [
    "**Solution**\n",
    "\n",
    "(a)\n",
    "\n",
    "given $n = 1000$, death = 823,$CI = 0.95$ so  $\\frac{\\alpha}{2} = 0.025$ and $Z_{\\frac{\\alpha}{2}}=1.96$\n",
    "\n",
    "$\\hat{P} = 0.823$\n",
    "\n",
    "The proportion in the population is \n",
    "\n",
    "$$\\hat{P}-Z_{\\frac{\\alpha}{2}} \\times \\sqrt{\\frac{\\hat{P}(1-\\hat{P})}{n}} < P  < \\hat{P}+Z_{\\frac{\\alpha}{2}} \\times \\sqrt{\\frac{\\hat{P}(1-\\hat{P})}{n}}$$\n",
    "\n",
    "So \n",
    "\n",
    "$$0.823- 1.96 \\times \\sqrt{\\frac{0.823(1-0.823)}{1000}} < P  < 0.823 + 1.96 \\times \\sqrt{\\frac{0.823(1-0.823)}{1000}}$$\n",
    "\n",
    "and \n",
    "\n",
    "$$0.799 < P < 0.846$$\n",
    "\n",
    "(b) $E < 0.03$\n",
    "\n",
    "$$n = \\Big(\\frac{Z_{\\frac{\\alpha}{2}}}{E}\\Big)^2 \\times  \\hat{P}(1-\\hat{P})$$\n",
    "\n",
    "$$n = \\Big(\\frac{1.96}{0.03}\\Big)^2 \\times  0.823(1-0.823)$$\n",
    "\n",
    "$n = 622$ or greater"
   ]
  },
  {
   "cell_type": "markdown",
   "id": "bf9808f7",
   "metadata": {},
   "source": [
    "### Statistical intervals in Python"
   ]
  },
  {
   "cell_type": "code",
   "execution_count": 8,
   "id": "c8ce82a1",
   "metadata": {},
   "outputs": [
    {
     "name": "stdout",
     "output_type": "stream",
     "text": [
      "3232.11 < mu <  3267.89\n"
     ]
    }
   ],
   "source": [
    "import scipy.stats as st\n",
    "import numpy as np\n",
    "\n",
    "# 1.For normal distribution use st.norm.interval(CI, xbar, sigma/sqrt(n))\n",
    "# Example 5\n",
    "# given n = 12, sigma=1000^0.5, xbar = 3250, CI = 0.95\n",
    "# answer 3232.108 < mu < 3267.89\n",
    "\n",
    "xbar = 3250\n",
    "sigma = 1000**0.5\n",
    "n = 12\n",
    "CI = 0.95\n",
    "mu_range = st.norm.interval(CI,\n",
    "                            xbar,\n",
    "                            sigma/np.sqrt(n))\n",
    "print(\"%.2f\"%mu_range[0], \"< mu < \", \"%.2f\"%mu_range[1]) "
   ]
  },
  {
   "cell_type": "code",
   "execution_count": 9,
   "id": "7aeb3ac4",
   "metadata": {},
   "outputs": [
    {
     "name": "stdout",
     "output_type": "stream",
     "text": [
      "58196.92 < mu <  62082.48\n"
     ]
    }
   ],
   "source": [
    "# 2.For t distribution use st.t.interval(CI, n-1, xbar, s/sqrt(n))\n",
    "# Example 8\n",
    "# Given n = 16, xbar = 60139.7, s = 3645.94 and $CI = 0.95$\n",
    "# answer  58197.3 < mu <  62082.1\n",
    "xbar = 60139.7\n",
    "s = 3645.94\n",
    "n = 16\n",
    "CI = 0.95\n",
    "mu_range = st.t.interval(CI,\n",
    "                         n-1,\n",
    "                         xbar,\n",
    "                         s/np.sqrt(n))\n",
    "print(\"%.2f\"%mu_range[0], \"< mu < \", \"%.2f\"%mu_range[1])"
   ]
  }
 ],
 "metadata": {
  "kernelspec": {
   "display_name": "Python 3 (ipykernel)",
   "language": "python",
   "name": "python3"
  },
  "language_info": {
   "codemirror_mode": {
    "name": "ipython",
    "version": 3
   },
   "file_extension": ".py",
   "mimetype": "text/x-python",
   "name": "python",
   "nbconvert_exporter": "python",
   "pygments_lexer": "ipython3",
   "version": "3.8.10"
  }
 },
 "nbformat": 4,
 "nbformat_minor": 5
}
