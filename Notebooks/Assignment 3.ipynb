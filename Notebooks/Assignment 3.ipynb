{
 "cells": [
  {
   "cell_type": "markdown",
   "id": "fb804e4b",
   "metadata": {},
   "source": [
    "# Assignment 3 (Python)"
   ]
  },
  {
   "cell_type": "markdown",
   "id": "3adea310",
   "metadata": {},
   "source": [
    "## Problem 1\n",
    "An order for an automobile can specify either an automatic or a standard transmission, either with or without air conditioning, and with any one of the four colors red, blue, black, or white.\n",
    "**Use Python** to find the set of possible orders for this experiment."
   ]
  },
  {
   "cell_type": "markdown",
   "id": "672cf72b",
   "metadata": {},
   "source": [
    "## Problem 2\n",
    "\n",
    "Each sample of water has a 10% chance of containing a particular organic pollutant. Assume that the\n",
    "samples are independent with regard to the presence of the pollutant. We randomly choose 18\n",
    "samples. **Using Python**, answer the following questions:\n",
    "\n",
    "(a) What’s the probability that exactly 4 of the chosen samples have the pollutant?\n",
    "\n",
    "(b) What’s the probability that at least 3 of the chosen samples have the pollutant?\n",
    "\n",
    "(c) What’s the expected number of samples having the pollutant? (use the basic definition $E[x] = \\sum x f(x)$to calculate the answer & don’t use any direct formulae for E(X))\n",
    "\n",
    "(d) Plot the PMF of the random variable representing the number of samples having the\n",
    "pollutant. (Name the x-axis $x$ & the y-axis $f(x)$)\n",
    "\n",
    "(e) Plot the CDF of the random variable representing the number of samples having the\n",
    "pollutant. (Name the x-axis $x$ & the y-axis $F(x)$)"
   ]
  },
  {
   "cell_type": "markdown",
   "id": "fc8797a6",
   "metadata": {},
   "source": [
    "## Problem 3\n",
    "\n",
    "A random variable has a continuous uniform distribution along the interval (3 to 12).\n",
    "\n",
    "(a) **Use Python** to randomly get 5 observations of this RV, then plot the histogram of these values (try this for several times & observe that the output is changing each time).\n",
    "\n",
    "(b) Is the output of the histogram plotting function as expected (i.e. representing a uniform\n",
    "distribution)? Explain how this plotting function works (specifying what’s the x-axis & y-\n",
    "axis)?\n",
    "\n",
    "(c) Generate 20, 100, 100000, 200000, 500000 observations of the RV & plot the histogram for\n",
    "each case including the case in part a. What do you observe as you increase the sample size?"
   ]
  },
  {
   "cell_type": "markdown",
   "id": "6b3f3269",
   "metadata": {},
   "source": [
    "## Problem 4\n",
    "\n",
    "Let a random variable X has a normal distribution of $\\mu= 5$ and $\\sigma = 2$. **Use Python** to find the probability that \n",
    "\n",
    "(a) $x$ lies between (2,8) \n",
    "\n",
    "(b) $x$ lies between (10,15). \n",
    "\n",
    "(c) **Use Python** to draw the entire PDF of $x$ and shade the area between the two values in (a) and (b). This can give you a graphical clue of the probability that $X$ lies between two values without the need to calculate the probability exactly. Use this to visualize & compare the two required probabilities."
   ]
  },
  {
   "cell_type": "markdown",
   "id": "90eb027e",
   "metadata": {},
   "source": [
    "## Problem 5\n",
    "\n",
    "The breakdown time of an insulating fluid between electrodes at 34 kV. The times, in minutes, are as\n",
    "follows: $$0.19, 0.78, 0.96, 1.31, 2.78, 3.16, 4.15, 4.67, 4.85, 6.50, 7.35, 8.01, 8.27, 12.06, 31.75,\n",
    "32.52, 33.91, 36.71, 72.89$$ \n",
    "**Using Python** calculate the sample mean, sample median, sample\n",
    "range, and sample standard deviation."
   ]
  },
  {
   "cell_type": "markdown",
   "id": "c990725b",
   "metadata": {},
   "source": [
    "## Problem 6\n",
    "\n",
    "A healthcare provider monitors the number of CAT\n",
    "scans performed each month in each of its clinics. The most\n",
    "recent year of data for a particular clinic follows (the reported\n",
    "variable is the number of CAT scans each month expressed\n",
    "as the number of CAT scans per thousand members of the\n",
    "health plan):\n",
    "\n",
    "2.31, 2.09, 2.36, 1.95, 1.98, 2.25, 2.16, 2.07, 1.88, 1.94, 1.97,\n",
    "2.02.\n",
    "\n",
    "(a) **Use Python** to find a 95%  CI on the mean number of CAT\n",
    "scans performed each month at this clinic.\n",
    "\n",
    "(b) Repeat (a) using the standard normal distribution. Compare the results. "
   ]
  }
 ],
 "metadata": {
  "kernelspec": {
   "display_name": "Python 3 (ipykernel)",
   "language": "python",
   "name": "python3"
  },
  "language_info": {
   "codemirror_mode": {
    "name": "ipython",
    "version": 3
   },
   "file_extension": ".py",
   "mimetype": "text/x-python",
   "name": "python",
   "nbconvert_exporter": "python",
   "pygments_lexer": "ipython3",
   "version": "3.8.10"
  }
 },
 "nbformat": 4,
 "nbformat_minor": 5
}
