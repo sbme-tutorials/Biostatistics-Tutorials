{
 "cells": [
  {
   "cell_type": "markdown",
   "id": "f233e7e3",
   "metadata": {},
   "source": [
    "# Continuous Random Variables\n",
    "\n",
    "$X$ has uncountable/infinite number of values."
   ]
  },
  {
   "cell_type": "markdown",
   "id": "d54c75ca",
   "metadata": {},
   "source": [
    "\n",
    "## Probability Density function (PDF)\n",
    "\n",
    "$$f(x)$$\n",
    "$$P(a \\leq X \\leq b) = \\int_{a}^{b} f(x) dx$$ \n",
    "$$P(X = x) = 0$$\n",
    "$$\\int_{-\\infty}^{\\infty} f(x) dx = 1$$"
   ]
  },
  {
   "cell_type": "markdown",
   "id": "993cb616",
   "metadata": {},
   "source": [
    "## Cumulative Distribution function (CDF)\n",
    "\n",
    "$$F(x) = P(X \\leq x) = \\int_{-\\infty}^{x} f(x) dx$$\n",
    "\n",
    "**Notes**\n",
    "\n",
    "$P(a \\leq X \\leq b) = P( a < X \\leq b) = P(a < X < b) = F(b) - F(a)$\n",
    "\n",
    "$P(X > a) = 1 - P(X \\leq a) = 1 - F(a)$"
   ]
  },
  {
   "cell_type": "markdown",
   "id": "88f56955",
   "metadata": {},
   "source": [
    "## Expected Value and Variance \n",
    "\n",
    "$$\\mu = E[x] = \\int_{-\\infty}^{\\infty} x f(x) dx$$\n",
    "\n",
    "$$V(x) = \\int_{-\\infty}^{\\infty} (x-\\mu)^2 f(x) dx = \\int_{-\\infty}^{\\infty} x^2 f(x) dx - \\mu^2$$"
   ]
  },
  {
   "cell_type": "markdown",
   "id": "b44ff25e",
   "metadata": {},
   "source": [
    "## Exercises "
   ]
  },
  {
   "cell_type": "markdown",
   "id": "824ddd9a",
   "metadata": {},
   "source": [
    "### Example 1\n",
    "\n",
    "Suppose that\n",
    "\n",
    "$$f(x) = \\frac{x}{8}$$\n",
    "\n",
    "Where $$3 < x < 5$$\n",
    "\n",
    "Determine the following: \n",
    "\n",
    "(a) $P(X < 4)$\n",
    "\n",
    "(b) $P(X > 3.5)$\n",
    "\n",
    "(c) $P(4 < X < 5)$\n",
    "\n",
    "(d) $P(X > 4.5)$\n",
    "\n",
    "(e) $P(X < 3.5$ or $x > 4.5)$"
   ]
  },
  {
   "cell_type": "markdown",
   "id": "f0caaa12",
   "metadata": {},
   "source": [
    "### EXample 2\n",
    "\n",
    "Suppose that\n",
    "\n",
    "$$f(x) = e^{-x}$$\n",
    "\n",
    "Where $$x > 0$$\n",
    "\n",
    "Determine the following: \n",
    "\n",
    "(a) $P(X > 1)$\n",
    "\n",
    "(b) $P(1 \\leq X < 2.5)$\n",
    "\n",
    "(c) $P(X = 3)$\n",
    "\n",
    "(d) $P(X \\geq 3)$\n",
    "\n",
    "(e) Find the value of $x$ where $P(X > x) = 0.1$"
   ]
  },
  {
   "cell_type": "markdown",
   "id": "6e6adb03",
   "metadata": {},
   "source": [
    "### EXample 3\n",
    "\n",
    "Suppose that the cumulative distribution function of the random variable $X$ is\n",
    "\n",
    "$$F(x) = \\Bigg\\{ \\begin{matrix}\n",
    "0 & x < 0\\\\\n",
    "0.25x &  0 \\leq x \\leq 4\\\\\n",
    "1& 4 \\leq x \\\n",
    "\\end{matrix}\n",
    "$$\n",
    "\n",
    "\n",
    "Determine the following: \n",
    "\n",
    "(a) $P(X < 2.8)$\n",
    "\n",
    "(b) $P(X > 1.5)$\n",
    "\n",
    "(c) $P(X < -2)$\n",
    "\n",
    "(d) $P(X > 6)$"
   ]
  },
  {
   "cell_type": "markdown",
   "id": "429a3c54",
   "metadata": {},
   "source": [
    "### Example 4\n",
    "\n",
    "The probability density function of the time you arrive at a terminal (in minutes after 8:00 a.m.) is \n",
    "\n",
    "$$f(x) = 0.1 e^{−0.1x}$$\n",
    "\n",
    "for $$x>0$$ \n",
    "\n",
    "Determine the probability that\n",
    "\n",
    "(a) You arrive before 9:00 a.m.\n",
    "\n",
    "(b) You arrive between 8:15 a.m. and 8:30 a.m.\n",
    "\n",
    "(c) Determine the cumulative distribution function and use the\n",
    "cumulative distribution function to determine the probability that you arrive between 8:15 a.m. and 8:30 a.m."
   ]
  },
  {
   "cell_type": "markdown",
   "id": "caa923eb",
   "metadata": {},
   "source": [
    "### Example 5\n",
    "\n",
    "Determine the probability density function for the\n",
    "following cumulative distribution function.\n",
    "\n",
    "$$F(x) = \\Bigg\\{ \\begin{matrix}\n",
    "0 & x < 0\\\\\n",
    "0.2x &  0 \\leq x < 4\\\\\n",
    "0.04x + 0.64 &  4 \\leq x < 9\\\\\n",
    "1& 9 \\leq x \\\n",
    "\\end{matrix}\n",
    "$$\n"
   ]
  },
  {
   "cell_type": "markdown",
   "id": "df49bf3b",
   "metadata": {},
   "source": [
    "### Example 6\n",
    "\n",
    "Determine the mean and the variance of the random variable $X$ where\n",
    "\n",
    "$$f(x) = 2x^{-3}$$ \n",
    "\n",
    "for \n",
    "\n",
    "$$x > 1$$\n",
    "\n"
   ]
  },
  {
   "cell_type": "markdown",
   "id": "1337c54e",
   "metadata": {},
   "source": [
    "### Example 7\n",
    "\n",
    "**Integration by parts is required.**\n",
    "\n",
    "The probability\n",
    "density function for the diameter of a drilled hole in millimeters\n",
    "\n",
    "$$f(x)= 10 e^{-10(x-5)}$$\n",
    "\n",
    "for $x > 5$ mm. \n",
    "\n",
    "Although the target diameter is 5 millimeters, vibrations, tool wear, and other nuisances produce diameters greater than 5 millimeters.\n",
    "\n",
    "(a) Determine the mean and variance of the diameter of the holes.\n",
    "\n",
    "(b) Determine the probability that a diameter exceeds 5.1\n",
    "millimeters."
   ]
  },
  {
   "cell_type": "markdown",
   "id": "52af72a1",
   "metadata": {},
   "source": [
    "## Continuous Distributions"
   ]
  },
  {
   "cell_type": "markdown",
   "id": "5ccf60f5",
   "metadata": {},
   "source": [
    "### Uniform Distribution\n",
    "\n",
    "$$f(x) = \\frac{1}{b-a}$$ \n",
    "\n",
    "where \n",
    "\n",
    "$$a \\leq x \\leq b$$\n",
    "\n",
    "and \n",
    "\n",
    "$$\\mu = E[X] = \\frac{a+b}{2}$$\n",
    "$$\\sigma^2 = V(x) = \\frac{(b-a)^2}{12}$$"
   ]
  },
  {
   "cell_type": "markdown",
   "id": "84245e47",
   "metadata": {},
   "source": [
    "### Normal Distribution (Gaussian Dist.)\n",
    "\n",
    "$$ f(x) = \\frac{1}{\\sqrt{2\\pi \\sigma}} e^{\\frac{-(x-\\mu)^2}{2\\sigma^2}}$$\n",
    "\n",
    "Where \n",
    "\n",
    "$$-\\infty < x < \\infty$$\n",
    "\n",
    "also can be written as $N(\\mu, \\sigma^2)$\n",
    "\n",
    "#### Standard Normal Distribution \n",
    "\n",
    "$$N(0, 1)$$\n",
    "\n",
    "So $\\mu = 0$ and $\\sigma^2 = 1$\n",
    "\n",
    "#### Normal distribution to Standard normal distribution\n",
    "\n",
    "\n",
    "to convert any normal distribution to a standard normal distribution just apply the following equation\n",
    "\n",
    "$$Z = \\frac{X-\\mu}{\\sigma}$$\n",
    "\n",
    "Where $\\mu$ is the mean and $\\sigma$ is the standard deviation of $X$\n",
    "\n",
    "* Standard normal distribution table \n",
    "\n",
    "    The table represent the cumulative distribution function (CDF) of $N(0, 1)$\n",
    "\n",
    "    $$\\Phi(z) = P(Z \\leq z)$$"
   ]
  },
  {
   "cell_type": "markdown",
   "id": "3f22efa6",
   "metadata": {},
   "source": [
    "### Normal approximation \n",
    "\n",
    "#### 1. Binomal RV \n",
    "\n",
    "The binomial distribution can be approximated to a normal distribution if \n",
    "\n",
    "$np > 5$ and $n(1-p) > 5$\n",
    "\n",
    "So \n",
    "\n",
    "$$Bin(\\mu, \\sigma^2) \\rightarrow N(\\mu, \\sigma^2)$$\n",
    "\n",
    "Where $\\mu = np$ and $\\sigma^2 = np(1-p)$\n",
    "\n",
    "And the approximated normal distribution can be transformed to a std normal distribution by: \n",
    "\n",
    "$$Z = \\frac{X-np}{\\sqrt{np(1-p)}}$$\n",
    "\n",
    "So we can use the table to get our probabilities \n",
    "\n",
    "**Continuity correction** \n",
    "\n",
    "We need to apply a correction because the binomial distibution is discrete and the normal distribution is continuous.\n",
    "\n",
    "$$P(X \\leq x) \\rightarrow P(X \\leq x+0.5)$$\n",
    "$$P(X \\geq x) \\rightarrow P(X \\geq x-0.5)$$\n",
    "\n",
    "#### 2. Piosson RV\n",
    "\n",
    "If $\\lambda > 5$ we can approximate the Piosson RV to $N(\\lambda, \\sqrt{\\lambda})$ and to std. normal dist. using\n",
    "\n",
    "$$Z = \\frac{X - \\lambda}{\\sqrt{\\lambda}}$$"
   ]
  },
  {
   "cell_type": "markdown",
   "id": "5ce8db8d",
   "metadata": {},
   "source": [
    "### Other Distributions\n",
    "\n",
    "1. Exponential Dist. \n",
    "\n",
    "    $$f(x) = \\lambda e^{-\\lambda x}$$ \n",
    "    \n",
    "    for $0 \\leq x < \\infty$\n",
    "    \n",
    "    where $\\mu=E[X] = \\frac{1}{\\lambda}$ and $\\sigma^2 = V(x)=\\frac{1}{\\lambda^2}$\n",
    " \n",
    "2. Erlang RV. \n",
    "3. Gamma RV."
   ]
  },
  {
   "cell_type": "markdown",
   "id": "53d0e9c2",
   "metadata": {},
   "source": [
    "### Example 8\n",
    "\n",
    "Suppose $X$ has a continuous uniform distribution\n",
    "over the interval $[ − 1 , 1 ]$ . Determine the following:\n",
    "\n",
    "(a) Mean, variance, and standard deviation of $X$\n",
    "\n",
    "(b) Value for x such that $P(−x < X < x)= 0.90$\n",
    "\n",
    "(c) Cumulative distribution function"
   ]
  },
  {
   "cell_type": "markdown",
   "id": "22859aed",
   "metadata": {},
   "source": [
    "### Example 9\n",
    "\n",
    "A show is scheduled to start at 9:00 a.m., 9:30 a.m.,\n",
    "and 10:00 a.m. Once the show starts, the gate will be closed.\n",
    "A visitor will arrive at the gate at a time uniformly distributed\n",
    "between 8:30 a.m. and 10:00 a.m. Determine the following:\n",
    "\n",
    "(a) Cumulative distribution function of the time (in minutes)\n",
    "between arrival and 8:30 a.m.\n",
    "\n",
    "(b) Mean and variance of the distribution in the previous part\n",
    "\n",
    "(c) Probability that a visitor waits less than 10 minutes for a show\n",
    "\n",
    "(d) Probability that a visitor waits more than 20 minutes for a show"
   ]
  },
  {
   "cell_type": "markdown",
   "id": "0bca1687",
   "metadata": {},
   "source": [
    "### Example 10\n",
    "\n",
    "Assume that $Z$ has a standard normal distribution.\n",
    "Use Appendix Table III to determine the value for $z$ that solves\n",
    "each of the following\n",
    "\n",
    "(a) $P(Z < z) = 0.9$\n",
    "\n",
    "(b) $P(Z < z) = 0.5$\n",
    "\n",
    "(c) $P(Z > z) = 0.1$\n",
    "\n",
    "(d) $P(Z > z) = 0.9$\n",
    "\n",
    "(e) $P(-1.24 < Z < z) = 0.8$"
   ]
  },
  {
   "cell_type": "markdown",
   "id": "7b130de8",
   "metadata": {},
   "source": [
    "### Example 11\n",
    "\n",
    "Assume that X is normally distributed with a mean\n",
    "of 5 and a standard deviation of 4. Determine the following:\n",
    "\n",
    "(a) $P(X < 11)$\n",
    "\n",
    "(b) $P(X > 0)$\n",
    "\n",
    "(c) $P(3 < X < 7)$\n",
    "\n",
    "(d) $P( -2 < X < 9)$\n",
    "\n",
    "(e) $P(2 < X < 8)$"
   ]
  },
  {
   "cell_type": "markdown",
   "id": "a075646e",
   "metadata": {},
   "source": [
    "### Example 12 \n",
    "\n",
    "The time until recharge for a battery in a laptop com-\n",
    "puter under common conditions is normally distributed with a\n",
    "mean of 260 minutes and a standard deviation of 50 minutes.\n",
    "\n",
    "a) What is the probability that a battery lasts more than four\n",
    "hours?\n",
    "\n",
    "(b) What are the quartiles (the 25% and 75% values) of battery life?\n",
    "\n",
    "(c) What value of life in minutes is exceeded with 95% probability?"
   ]
  },
  {
   "cell_type": "markdown",
   "id": "1c7fd8a5",
   "metadata": {},
   "source": [
    "### Example 13\n",
    "\n",
    "The life of a semiconductor laser at a constant power is\n",
    "normally distributed with a mean of 7000 hours and a standard\n",
    "deviation of 600 hours.\n",
    "\n",
    "(a) What is the probability that a laser fails before 5000 hours?\n",
    "\n",
    "(b) What is the life in hours that 95% of the lasers exceed?\n",
    "\n",
    "(c) If three lasers are used in a product and they are assumed to\n",
    "fail independently, what is the probability that all three are\n",
    "still operating after 7000 hours?"
   ]
  },
  {
   "cell_type": "markdown",
   "id": "c97625c5",
   "metadata": {},
   "source": [
    "### Example 14\n",
    "\n",
    "Suppose that X is a binomial random variable with\n",
    "n = 200 and $p = 0.4$ . Approximate the following probabilities:\n",
    "\n",
    "(a) $P(X \\leq 70)$\n",
    "\n",
    "(b) $P(70 < x < 90)$\n",
    "\n",
    "(c) $P(X = 80)$"
   ]
  },
  {
   "cell_type": "markdown",
   "id": "97517fae",
   "metadata": {},
   "source": [
    "### Example 15\n",
    "\n",
    "The manufacturing of semiconductor chips pro-\n",
    "duces 2% defective chips. Assume that the chips are independent and that a lot contains 1000 chips. Approximate the\n",
    "\n",
    "following probabilities:\n",
    "\n",
    "(a) More than 25 chips are defective.\n",
    "\n",
    "(b) Between 20 and 30 chips are defective."
   ]
  }
 ],
 "metadata": {
  "kernelspec": {
   "display_name": "Python 3 (ipykernel)",
   "language": "python",
   "name": "python3"
  },
  "language_info": {
   "codemirror_mode": {
    "name": "ipython",
    "version": 3
   },
   "file_extension": ".py",
   "mimetype": "text/x-python",
   "name": "python",
   "nbconvert_exporter": "python",
   "pygments_lexer": "ipython3",
   "version": "3.8.10"
  }
 },
 "nbformat": 4,
 "nbformat_minor": 5
}
